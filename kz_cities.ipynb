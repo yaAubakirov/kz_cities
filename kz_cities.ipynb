{
 "cells": [
  {
   "cell_type": "markdown",
   "metadata": {},
   "source": [
    "## Cities in Kazakhstan. Data mining"
   ]
  },
  {
   "cell_type": "markdown",
   "metadata": {},
   "source": [
    "### Introduction"
   ]
  },
  {
   "cell_type": "markdown",
   "metadata": {},
   "source": [
    "It started when I needed location coordinates for Russian cities. I've found csv with city list and its coordinates. So I decided to create such table for KZ cities."
   ]
  },
  {
   "cell_type": "code",
   "execution_count": 1,
   "metadata": {},
   "outputs": [],
   "source": [
    "import requests\n",
    "from bs4 import BeautifulSoup\n",
    "import pandas as pd\n",
    "import re as re\n",
    "import numpy as np\n",
    "import matplotlib.pyplot as plt\n",
    "import seaborn as sns\n",
    "%matplotlib inline"
   ]
  },
  {
   "cell_type": "markdown",
   "metadata": {},
   "source": [
    "### Base table"
   ]
  },
  {
   "cell_type": "markdown",
   "metadata": {},
   "source": [
    "I've found this table in wikipedia. So I will parse this page to mine information for base table"
   ]
  },
  {
   "cell_type": "code",
   "execution_count": 2,
   "metadata": {},
   "outputs": [],
   "source": [
    "URL = 'https://ru.wikipedia.org/wiki/%D0%A1%D0%BF%D0%B8%D1%81%D0%BE%D0%BA_%D0%B3%D0%BE%D1%80%D0%BE%D0%B4%D0%BE%D0%B2_%D0%9A%D0%B0%D0%B7%D0%B0%D1%85%D1%81%D1%82%D0%B0%D0%BD%D0%B0'"
   ]
  },
  {
   "cell_type": "code",
   "execution_count": 3,
   "metadata": {},
   "outputs": [],
   "source": [
    "res = requests.get(URL)"
   ]
  },
  {
   "cell_type": "code",
   "execution_count": 4,
   "metadata": {},
   "outputs": [],
   "source": [
    "soup = BeautifulSoup(res.text,'lxml')"
   ]
  },
  {
   "cell_type": "code",
   "execution_count": 5,
   "metadata": {},
   "outputs": [],
   "source": [
    "table = soup.find('table', attrs={'class' : 'wikitable'})"
   ]
  },
  {
   "cell_type": "code",
   "execution_count": 6,
   "metadata": {},
   "outputs": [],
   "source": [
    "content = []"
   ]
  },
  {
   "cell_type": "code",
   "execution_count": 7,
   "metadata": {},
   "outputs": [],
   "source": [
    "for row in table.find_all('tr'):\n",
    "    if not row.find_all('th'):\n",
    "        content.append([element.text for element in row.find_all('td')])"
   ]
  },
  {
   "cell_type": "code",
   "execution_count": 8,
   "metadata": {},
   "outputs": [],
   "source": [
    "col = [\n",
    "    'title',\n",
    "    'rus_title',\n",
    "    'kz_title',\n",
    "    'city_from',\n",
    "    'pop_1979',\n",
    "    'pop_1989',\n",
    "    'pop_1999',\n",
    "    'pop_2009',\n",
    "    'pop_2014',\n",
    "    'pop_2019',\n",
    "    'status',\n",
    "    'region'\n",
    "]"
   ]
  },
  {
   "cell_type": "code",
   "execution_count": 9,
   "metadata": {},
   "outputs": [],
   "source": [
    "cities = pd.DataFrame(content, columns=col)"
   ]
  },
  {
   "cell_type": "code",
   "execution_count": 10,
   "metadata": {},
   "outputs": [
    {
     "data": {
      "text/html": [
       "<div>\n",
       "<style scoped>\n",
       "    .dataframe tbody tr th:only-of-type {\n",
       "        vertical-align: middle;\n",
       "    }\n",
       "\n",
       "    .dataframe tbody tr th {\n",
       "        vertical-align: top;\n",
       "    }\n",
       "\n",
       "    .dataframe thead th {\n",
       "        text-align: right;\n",
       "    }\n",
       "</style>\n",
       "<table border=\"1\" class=\"dataframe\">\n",
       "  <thead>\n",
       "    <tr style=\"text-align: right;\">\n",
       "      <th></th>\n",
       "      <th>title</th>\n",
       "      <th>rus_title</th>\n",
       "      <th>kz_title</th>\n",
       "      <th>city_from</th>\n",
       "      <th>pop_1979</th>\n",
       "      <th>pop_1989</th>\n",
       "      <th>pop_1999</th>\n",
       "      <th>pop_2009</th>\n",
       "      <th>pop_2014</th>\n",
       "      <th>pop_2019</th>\n",
       "      <th>status</th>\n",
       "      <th>region</th>\n",
       "    </tr>\n",
       "  </thead>\n",
       "  <tbody>\n",
       "    <tr>\n",
       "      <th>0</th>\n",
       "      <td>Абай\\n</td>\n",
       "      <td>Абай\\n</td>\n",
       "      <td>Абай\\n</td>\n",
       "      <td>1961\\n</td>\n",
       "      <td>39387\\n</td>\n",
       "      <td>46533\\n</td>\n",
       "      <td>33066\\n</td>\n",
       "      <td>25550\\n</td>\n",
       "      <td>27954\\n</td>\n",
       "      <td>28365\\n</td>\n",
       "      <td>4\\n</td>\n",
       "      <td>Карагандинская область\\n</td>\n",
       "    </tr>\n",
       "    <tr>\n",
       "      <th>1</th>\n",
       "      <td>Акколь\\n</td>\n",
       "      <td>Акколь\\n</td>\n",
       "      <td>АкколАқкөл\\n</td>\n",
       "      <td>1965\\n</td>\n",
       "      <td>17867\\n</td>\n",
       "      <td>19664\\n</td>\n",
       "      <td>15682\\n</td>\n",
       "      <td>14217\\n</td>\n",
       "      <td>13708\\n</td>\n",
       "      <td>13676\\n</td>\n",
       "      <td>4\\n</td>\n",
       "      <td>Акмолинская область\\n</td>\n",
       "    </tr>\n",
       "    <tr>\n",
       "      <th>2</th>\n",
       "      <td>Аксай\\n</td>\n",
       "      <td>Аксай\\n</td>\n",
       "      <td>АксайАқсай\\n</td>\n",
       "      <td>1967\\n</td>\n",
       "      <td>10400\\n</td>\n",
       "      <td>18237\\n</td>\n",
       "      <td>28953\\n</td>\n",
       "      <td>32873\\n</td>\n",
       "      <td>33589\\n</td>\n",
       "      <td>35310\\n</td>\n",
       "      <td>4\\n</td>\n",
       "      <td>Западно-Казахстанская область\\n</td>\n",
       "    </tr>\n",
       "    <tr>\n",
       "      <th>3</th>\n",
       "      <td>Аксу\\n</td>\n",
       "      <td>Аксу\\n</td>\n",
       "      <td>АксуАқсу\\n</td>\n",
       "      <td>1961\\n</td>\n",
       "      <td>41572\\n</td>\n",
       "      <td>47067\\n</td>\n",
       "      <td>42264\\n</td>\n",
       "      <td>41677\\n</td>\n",
       "      <td>42519\\n</td>\n",
       "      <td>41639\\n</td>\n",
       "      <td>3\\n</td>\n",
       "      <td>Павлодарская область\\n</td>\n",
       "    </tr>\n",
       "    <tr>\n",
       "      <th>4</th>\n",
       "      <td>Актау\\n</td>\n",
       "      <td>Актау\\n</td>\n",
       "      <td>АктауАқтау\\n</td>\n",
       "      <td>1963\\n</td>\n",
       "      <td>110575\\n</td>\n",
       "      <td>159245\\n</td>\n",
       "      <td>143396\\n</td>\n",
       "      <td>166962\\n</td>\n",
       "      <td>182033\\n</td>\n",
       "      <td>183006\\n</td>\n",
       "      <td>2\\n</td>\n",
       "      <td>Мангистауская область\\n</td>\n",
       "    </tr>\n",
       "  </tbody>\n",
       "</table>\n",
       "</div>"
      ],
      "text/plain": [
       "      title rus_title      kz_title city_from  pop_1979  pop_1989  pop_1999  \\\n",
       "0    Абай\\n    Абай\\n        Абай\\n    1961\\n   39387\\n   46533\\n   33066\\n   \n",
       "1  Акколь\\n  Акколь\\n  АкколАқкөл\\n    1965\\n   17867\\n   19664\\n   15682\\n   \n",
       "2   Аксай\\n   Аксай\\n  АксайАқсай\\n    1967\\n   10400\\n   18237\\n   28953\\n   \n",
       "3    Аксу\\n    Аксу\\n    АксуАқсу\\n    1961\\n   41572\\n   47067\\n   42264\\n   \n",
       "4   Актау\\n   Актау\\n  АктауАқтау\\n    1963\\n  110575\\n  159245\\n  143396\\n   \n",
       "\n",
       "   pop_2009  pop_2014  pop_2019 status                           region  \n",
       "0   25550\\n   27954\\n   28365\\n    4\\n         Карагандинская область\\n  \n",
       "1   14217\\n   13708\\n   13676\\n    4\\n            Акмолинская область\\n  \n",
       "2   32873\\n   33589\\n   35310\\n    4\\n  Западно-Казахстанская область\\n  \n",
       "3   41677\\n   42519\\n   41639\\n    3\\n           Павлодарская область\\n  \n",
       "4  166962\\n  182033\\n  183006\\n    2\\n          Мангистауская область\\n  "
      ]
     },
     "execution_count": 10,
     "metadata": {},
     "output_type": "execute_result"
    }
   ],
   "source": [
    "cities.head()"
   ]
  },
  {
   "cell_type": "markdown",
   "metadata": {},
   "source": [
    "There is \\n in every row. Gonna clear it"
   ]
  },
  {
   "cell_type": "code",
   "execution_count": 11,
   "metadata": {},
   "outputs": [],
   "source": [
    "for column in col:\n",
    "    cities[column] = cities[column].str.replace('\\n', '')"
   ]
  },
  {
   "cell_type": "code",
   "execution_count": 12,
   "metadata": {},
   "outputs": [
    {
     "data": {
      "text/html": [
       "<div>\n",
       "<style scoped>\n",
       "    .dataframe tbody tr th:only-of-type {\n",
       "        vertical-align: middle;\n",
       "    }\n",
       "\n",
       "    .dataframe tbody tr th {\n",
       "        vertical-align: top;\n",
       "    }\n",
       "\n",
       "    .dataframe thead th {\n",
       "        text-align: right;\n",
       "    }\n",
       "</style>\n",
       "<table border=\"1\" class=\"dataframe\">\n",
       "  <thead>\n",
       "    <tr style=\"text-align: right;\">\n",
       "      <th></th>\n",
       "      <th>title</th>\n",
       "      <th>rus_title</th>\n",
       "      <th>kz_title</th>\n",
       "      <th>city_from</th>\n",
       "      <th>pop_1979</th>\n",
       "      <th>pop_1989</th>\n",
       "      <th>pop_1999</th>\n",
       "      <th>pop_2009</th>\n",
       "      <th>pop_2014</th>\n",
       "      <th>pop_2019</th>\n",
       "      <th>status</th>\n",
       "      <th>region</th>\n",
       "    </tr>\n",
       "  </thead>\n",
       "  <tbody>\n",
       "    <tr>\n",
       "      <th>0</th>\n",
       "      <td>Абай</td>\n",
       "      <td>Абай</td>\n",
       "      <td>Абай</td>\n",
       "      <td>1961</td>\n",
       "      <td>39387</td>\n",
       "      <td>46533</td>\n",
       "      <td>33066</td>\n",
       "      <td>25550</td>\n",
       "      <td>27954</td>\n",
       "      <td>28365</td>\n",
       "      <td>4</td>\n",
       "      <td>Карагандинская область</td>\n",
       "    </tr>\n",
       "    <tr>\n",
       "      <th>1</th>\n",
       "      <td>Акколь</td>\n",
       "      <td>Акколь</td>\n",
       "      <td>АкколАқкөл</td>\n",
       "      <td>1965</td>\n",
       "      <td>17867</td>\n",
       "      <td>19664</td>\n",
       "      <td>15682</td>\n",
       "      <td>14217</td>\n",
       "      <td>13708</td>\n",
       "      <td>13676</td>\n",
       "      <td>4</td>\n",
       "      <td>Акмолинская область</td>\n",
       "    </tr>\n",
       "    <tr>\n",
       "      <th>2</th>\n",
       "      <td>Аксай</td>\n",
       "      <td>Аксай</td>\n",
       "      <td>АксайАқсай</td>\n",
       "      <td>1967</td>\n",
       "      <td>10400</td>\n",
       "      <td>18237</td>\n",
       "      <td>28953</td>\n",
       "      <td>32873</td>\n",
       "      <td>33589</td>\n",
       "      <td>35310</td>\n",
       "      <td>4</td>\n",
       "      <td>Западно-Казахстанская область</td>\n",
       "    </tr>\n",
       "    <tr>\n",
       "      <th>3</th>\n",
       "      <td>Аксу</td>\n",
       "      <td>Аксу</td>\n",
       "      <td>АксуАқсу</td>\n",
       "      <td>1961</td>\n",
       "      <td>41572</td>\n",
       "      <td>47067</td>\n",
       "      <td>42264</td>\n",
       "      <td>41677</td>\n",
       "      <td>42519</td>\n",
       "      <td>41639</td>\n",
       "      <td>3</td>\n",
       "      <td>Павлодарская область</td>\n",
       "    </tr>\n",
       "    <tr>\n",
       "      <th>4</th>\n",
       "      <td>Актау</td>\n",
       "      <td>Актау</td>\n",
       "      <td>АктауАқтау</td>\n",
       "      <td>1963</td>\n",
       "      <td>110575</td>\n",
       "      <td>159245</td>\n",
       "      <td>143396</td>\n",
       "      <td>166962</td>\n",
       "      <td>182033</td>\n",
       "      <td>183006</td>\n",
       "      <td>2</td>\n",
       "      <td>Мангистауская область</td>\n",
       "    </tr>\n",
       "  </tbody>\n",
       "</table>\n",
       "</div>"
      ],
      "text/plain": [
       "    title rus_title    kz_title city_from pop_1979 pop_1989 pop_1999 pop_2009  \\\n",
       "0    Абай      Абай        Абай      1961    39387    46533    33066    25550   \n",
       "1  Акколь    Акколь  АкколАқкөл      1965    17867    19664    15682    14217   \n",
       "2   Аксай     Аксай  АксайАқсай      1967    10400    18237    28953    32873   \n",
       "3    Аксу      Аксу    АксуАқсу      1961    41572    47067    42264    41677   \n",
       "4   Актау     Актау  АктауАқтау      1963   110575   159245   143396   166962   \n",
       "\n",
       "  pop_2014 pop_2019 status                         region  \n",
       "0    27954    28365      4         Карагандинская область  \n",
       "1    13708    13676      4            Акмолинская область  \n",
       "2    33589    35310      4  Западно-Казахстанская область  \n",
       "3    42519    41639      3           Павлодарская область  \n",
       "4   182033   183006      2          Мангистауская область  "
      ]
     },
     "execution_count": 12,
     "metadata": {},
     "output_type": "execute_result"
    }
   ],
   "source": [
    "cities.head()"
   ]
  },
  {
   "cell_type": "markdown",
   "metadata": {},
   "source": [
    "There is a problem with kz_title column. Some of the city names are duplicated to coherent word. Need to separate them. I will write function which one will check how many uppercased letter are in the word. Based pn it I will separate them"
   ]
  },
  {
   "cell_type": "code",
   "execution_count": 13,
   "metadata": {},
   "outputs": [],
   "source": [
    "def kz_letters(row):\n",
    "    i = 0\n",
    "    exclusions = ['Форт-Шевченко', 'Нұр-Сұлтан'] # this names should be ignored\n",
    "    length = len(row)//2 #where to start separation\n",
    "    result = ''\n",
    "    \n",
    "    # check how many upercased letters\n",
    "    for letter in row:\n",
    "        if row in exclusions:\n",
    "            result = row\n",
    "            break\n",
    "        else:\n",
    "            if letter.isupper() == True:\n",
    "                i += 1\n",
    "        # if more than 1 separate\n",
    "        if i > 1:\n",
    "            result = row[length:]\n",
    "        else:\n",
    "            result = row\n",
    "    return result"
   ]
  },
  {
   "cell_type": "code",
   "execution_count": 14,
   "metadata": {},
   "outputs": [],
   "source": [
    "cities['kz_title'] = cities['kz_title'].apply(kz_letters)"
   ]
  },
  {
   "cell_type": "code",
   "execution_count": 15,
   "metadata": {},
   "outputs": [
    {
     "data": {
      "text/html": [
       "<div>\n",
       "<style scoped>\n",
       "    .dataframe tbody tr th:only-of-type {\n",
       "        vertical-align: middle;\n",
       "    }\n",
       "\n",
       "    .dataframe tbody tr th {\n",
       "        vertical-align: top;\n",
       "    }\n",
       "\n",
       "    .dataframe thead th {\n",
       "        text-align: right;\n",
       "    }\n",
       "</style>\n",
       "<table border=\"1\" class=\"dataframe\">\n",
       "  <thead>\n",
       "    <tr style=\"text-align: right;\">\n",
       "      <th></th>\n",
       "      <th>title</th>\n",
       "      <th>rus_title</th>\n",
       "      <th>kz_title</th>\n",
       "      <th>city_from</th>\n",
       "      <th>pop_1979</th>\n",
       "      <th>pop_1989</th>\n",
       "      <th>pop_1999</th>\n",
       "      <th>pop_2009</th>\n",
       "      <th>pop_2014</th>\n",
       "      <th>pop_2019</th>\n",
       "      <th>status</th>\n",
       "      <th>region</th>\n",
       "    </tr>\n",
       "  </thead>\n",
       "  <tbody>\n",
       "    <tr>\n",
       "      <th>0</th>\n",
       "      <td>Абай</td>\n",
       "      <td>Абай</td>\n",
       "      <td>Абай</td>\n",
       "      <td>1961</td>\n",
       "      <td>39387</td>\n",
       "      <td>46533</td>\n",
       "      <td>33066</td>\n",
       "      <td>25550</td>\n",
       "      <td>27954</td>\n",
       "      <td>28365</td>\n",
       "      <td>4</td>\n",
       "      <td>Карагандинская область</td>\n",
       "    </tr>\n",
       "    <tr>\n",
       "      <th>1</th>\n",
       "      <td>Акколь</td>\n",
       "      <td>Акколь</td>\n",
       "      <td>Ақкөл</td>\n",
       "      <td>1965</td>\n",
       "      <td>17867</td>\n",
       "      <td>19664</td>\n",
       "      <td>15682</td>\n",
       "      <td>14217</td>\n",
       "      <td>13708</td>\n",
       "      <td>13676</td>\n",
       "      <td>4</td>\n",
       "      <td>Акмолинская область</td>\n",
       "    </tr>\n",
       "    <tr>\n",
       "      <th>2</th>\n",
       "      <td>Аксай</td>\n",
       "      <td>Аксай</td>\n",
       "      <td>Ақсай</td>\n",
       "      <td>1967</td>\n",
       "      <td>10400</td>\n",
       "      <td>18237</td>\n",
       "      <td>28953</td>\n",
       "      <td>32873</td>\n",
       "      <td>33589</td>\n",
       "      <td>35310</td>\n",
       "      <td>4</td>\n",
       "      <td>Западно-Казахстанская область</td>\n",
       "    </tr>\n",
       "    <tr>\n",
       "      <th>3</th>\n",
       "      <td>Аксу</td>\n",
       "      <td>Аксу</td>\n",
       "      <td>Ақсу</td>\n",
       "      <td>1961</td>\n",
       "      <td>41572</td>\n",
       "      <td>47067</td>\n",
       "      <td>42264</td>\n",
       "      <td>41677</td>\n",
       "      <td>42519</td>\n",
       "      <td>41639</td>\n",
       "      <td>3</td>\n",
       "      <td>Павлодарская область</td>\n",
       "    </tr>\n",
       "    <tr>\n",
       "      <th>4</th>\n",
       "      <td>Актау</td>\n",
       "      <td>Актау</td>\n",
       "      <td>Ақтау</td>\n",
       "      <td>1963</td>\n",
       "      <td>110575</td>\n",
       "      <td>159245</td>\n",
       "      <td>143396</td>\n",
       "      <td>166962</td>\n",
       "      <td>182033</td>\n",
       "      <td>183006</td>\n",
       "      <td>2</td>\n",
       "      <td>Мангистауская область</td>\n",
       "    </tr>\n",
       "  </tbody>\n",
       "</table>\n",
       "</div>"
      ],
      "text/plain": [
       "    title rus_title kz_title city_from pop_1979 pop_1989 pop_1999 pop_2009  \\\n",
       "0    Абай      Абай     Абай      1961    39387    46533    33066    25550   \n",
       "1  Акколь    Акколь    Ақкөл      1965    17867    19664    15682    14217   \n",
       "2   Аксай     Аксай    Ақсай      1967    10400    18237    28953    32873   \n",
       "3    Аксу      Аксу     Ақсу      1961    41572    47067    42264    41677   \n",
       "4   Актау     Актау    Ақтау      1963   110575   159245   143396   166962   \n",
       "\n",
       "  pop_2014 pop_2019 status                         region  \n",
       "0    27954    28365      4         Карагандинская область  \n",
       "1    13708    13676      4            Акмолинская область  \n",
       "2    33589    35310      4  Западно-Казахстанская область  \n",
       "3    42519    41639      3           Павлодарская область  \n",
       "4   182033   183006      2          Мангистауская область  "
      ]
     },
     "execution_count": 15,
     "metadata": {},
     "output_type": "execute_result"
    }
   ],
   "source": [
    "cities.head()"
   ]
  },
  {
   "cell_type": "markdown",
   "metadata": {},
   "source": [
    "Now the city names are correct. Dtypes I will corerct in the end. Bust first need to fill '' values with nan"
   ]
  },
  {
   "cell_type": "code",
   "execution_count": 16,
   "metadata": {},
   "outputs": [],
   "source": [
    "cities = cities.replace('', np.nan)"
   ]
  },
  {
   "cell_type": "code",
   "execution_count": 17,
   "metadata": {},
   "outputs": [
    {
     "name": "stdout",
     "output_type": "stream",
     "text": [
      "<class 'pandas.core.frame.DataFrame'>\n",
      "RangeIndex: 88 entries, 0 to 87\n",
      "Data columns (total 12 columns):\n",
      " #   Column     Non-Null Count  Dtype \n",
      "---  ------     --------------  ----- \n",
      " 0   title      88 non-null     object\n",
      " 1   rus_title  88 non-null     object\n",
      " 2   kz_title   88 non-null     object\n",
      " 3   city_from  88 non-null     object\n",
      " 4   pop_1979   44 non-null     object\n",
      " 5   pop_1989   62 non-null     object\n",
      " 6   pop_1999   88 non-null     object\n",
      " 7   pop_2009   88 non-null     object\n",
      " 8   pop_2014   88 non-null     object\n",
      " 9   pop_2019   88 non-null     object\n",
      " 10  status     88 non-null     object\n",
      " 11  region     88 non-null     object\n",
      "dtypes: object(12)\n",
      "memory usage: 8.4+ KB\n"
     ]
    }
   ],
   "source": [
    "cities.info()"
   ]
  },
  {
   "cell_type": "markdown",
   "metadata": {},
   "source": [
    "Base table is ready. Now I want to add a bit more information like area, altitude, zip-code, carcodes and coordinates"
   ]
  },
  {
   "cell_type": "markdown",
   "metadata": {},
   "source": [
    "### Additional inforamtion"
   ]
  },
  {
   "cell_type": "markdown",
   "metadata": {},
   "source": [
    "Gonna create list of the links for all cities from dataset"
   ]
  },
  {
   "cell_type": "code",
   "execution_count": 18,
   "metadata": {},
   "outputs": [],
   "source": [
    "links = []"
   ]
  },
  {
   "cell_type": "code",
   "execution_count": 19,
   "metadata": {},
   "outputs": [],
   "source": [
    "for row in table.find_all('tr'):\n",
    "    if not row.find_all('th'):\n",
    "        links.append([element['href'] for element in row.find_all('a')])"
   ]
  },
  {
   "cell_type": "code",
   "execution_count": 20,
   "metadata": {},
   "outputs": [
    {
     "data": {
      "text/plain": [
       "'/wiki/%D0%90%D0%B1%D0%B0%D0%B9_(%D0%90%D0%B1%D0%B0%D0%B9%D1%81%D0%BA%D0%B8%D0%B9_%D1%80%D0%B0%D0%B9%D0%BE%D0%BD)'"
      ]
     },
     "execution_count": 20,
     "metadata": {},
     "output_type": "execute_result"
    }
   ],
   "source": [
    "links[0][0]"
   ]
  },
  {
   "cell_type": "markdown",
   "metadata": {},
   "source": [
    "First item of the each row is a link I need"
   ]
  },
  {
   "cell_type": "code",
   "execution_count": 21,
   "metadata": {},
   "outputs": [
    {
     "data": {
      "text/plain": [
       "88"
      ]
     },
     "execution_count": 21,
     "metadata": {},
     "output_type": "execute_result"
    }
   ],
   "source": [
    "len(links)"
   ]
  },
  {
   "cell_type": "code",
   "execution_count": 22,
   "metadata": {},
   "outputs": [],
   "source": [
    "city_list = cities['title']"
   ]
  },
  {
   "cell_type": "markdown",
   "metadata": {},
   "source": [
    "Now using the links I will get necessary information from infoboxes from wiki-pages for each city. Each column I will perform in separated loops. Of course it will take much more time, but there is no another way (or I don't know it) cause some information for some cities could be missed, so rows could be shifted"
   ]
  },
  {
   "cell_type": "code",
   "execution_count": 23,
   "metadata": {},
   "outputs": [],
   "source": [
    "city_area = []"
   ]
  },
  {
   "cell_type": "code",
   "execution_count": 24,
   "metadata": {},
   "outputs": [
    {
     "name": "stdout",
     "output_type": "stream",
     "text": [
      "Wall time: 47.8 s\n"
     ]
    }
   ],
   "source": [
    "%%time\n",
    "for i in range(len(links)):\n",
    "    temp_table = []\n",
    "    temp_table.append(city_list[i])\n",
    "    url_temp = 'https://ru.wikipedia.org'+links[i][0]\n",
    "    res_temp = requests.get(url_temp)\n",
    "    soup_temp = BeautifulSoup(res_temp.text,'lxml')\n",
    "    table_temp = soup_temp.find('table', attrs={'class' : 'infobox'})\n",
    "    for row in table_temp.find_all('td'):\n",
    "        area = row.find('span', attrs={'data-wikidata-property-id': 'P2046'})\n",
    "        if area != None:\n",
    "            temp_table.append(area.text)\n",
    "    city_area.append(temp_table)"
   ]
  },
  {
   "cell_type": "code",
   "execution_count": 25,
   "metadata": {},
   "outputs": [
    {
     "data": {
      "text/plain": [
       "['Абай', '200 км²']"
      ]
     },
     "execution_count": 25,
     "metadata": {},
     "output_type": "execute_result"
    }
   ],
   "source": [
    "city_area[0]"
   ]
  },
  {
   "cell_type": "code",
   "execution_count": 26,
   "metadata": {},
   "outputs": [],
   "source": [
    "city_altitude = []"
   ]
  },
  {
   "cell_type": "code",
   "execution_count": 27,
   "metadata": {},
   "outputs": [
    {
     "name": "stdout",
     "output_type": "stream",
     "text": [
      "Wall time: 35.7 s\n"
     ]
    }
   ],
   "source": [
    "%%time\n",
    "for i in range(len(links)):\n",
    "    temp_table = []\n",
    "    temp_table.append(city_list[i])\n",
    "    url_temp = 'https://ru.wikipedia.org'+links[i][0]\n",
    "    res_temp = requests.get(url_temp)\n",
    "    soup_temp = BeautifulSoup(res_temp.text,'lxml')\n",
    "    table_temp = soup_temp.find('table', attrs={'class' : 'infobox'})\n",
    "    for row in table_temp.find_all('td'):\n",
    "        altitude = row.find('span', attrs={'data-wikidata-property-id': 'P2044'})\n",
    "        if altitude != None:\n",
    "            temp_table.append(altitude.text)\n",
    "    city_altitude.append(temp_table)"
   ]
  },
  {
   "cell_type": "code",
   "execution_count": 28,
   "metadata": {},
   "outputs": [
    {
     "data": {
      "text/plain": [
       "['Абай', '504 м']"
      ]
     },
     "execution_count": 28,
     "metadata": {},
     "output_type": "execute_result"
    }
   ],
   "source": [
    "city_altitude[0]"
   ]
  },
  {
   "cell_type": "code",
   "execution_count": 29,
   "metadata": {},
   "outputs": [],
   "source": [
    "city_timezone = []"
   ]
  },
  {
   "cell_type": "code",
   "execution_count": 30,
   "metadata": {},
   "outputs": [
    {
     "name": "stdout",
     "output_type": "stream",
     "text": [
      "Wall time: 32.6 s\n"
     ]
    }
   ],
   "source": [
    "%%time\n",
    "for i in range(len(links)):\n",
    "    temp_table = []\n",
    "    temp_table.append(city_list[i])\n",
    "    url_temp = 'https://ru.wikipedia.org'+links[i][0]\n",
    "    res_temp = requests.get(url_temp)\n",
    "    soup_temp = BeautifulSoup(res_temp.text,'lxml')\n",
    "    table_temp = soup_temp.find('table', attrs={'class' : 'infobox'})\n",
    "    for row in table_temp.find_all('td'):\n",
    "        timezone = row.find('span', attrs={'data-wikidata-property-id': 'P421'})\n",
    "        if timezone != None:\n",
    "            temp_table.append(timezone.text)\n",
    "    city_timezone.append(temp_table)"
   ]
  },
  {
   "cell_type": "code",
   "execution_count": 31,
   "metadata": {},
   "outputs": [
    {
     "data": {
      "text/plain": [
       "['Абай', 'UTC+6:00']"
      ]
     },
     "execution_count": 31,
     "metadata": {},
     "output_type": "execute_result"
    }
   ],
   "source": [
    "city_timezone[0]"
   ]
  },
  {
   "cell_type": "code",
   "execution_count": 32,
   "metadata": {},
   "outputs": [],
   "source": [
    "city_zipcode = []"
   ]
  },
  {
   "cell_type": "code",
   "execution_count": 33,
   "metadata": {},
   "outputs": [
    {
     "name": "stdout",
     "output_type": "stream",
     "text": [
      "Wall time: 32.1 s\n"
     ]
    }
   ],
   "source": [
    "%%time\n",
    "for i in range(len(links)):\n",
    "    temp_table = []\n",
    "    temp_table.append(city_list[i])\n",
    "    url_temp = 'https://ru.wikipedia.org'+links[i][0]\n",
    "    res_temp = requests.get(url_temp)\n",
    "    soup_temp = BeautifulSoup(res_temp.text,'lxml')\n",
    "    table_temp = soup_temp.find('table', attrs={'class' : 'infobox'})\n",
    "    for row in table_temp.find_all('td'):\n",
    "        zipcode = row.find('span', attrs={'data-wikidata-property-id': 'P281'})\n",
    "        if zipcode != None:\n",
    "            temp_table.append(zipcode.text)\n",
    "    city_zipcode.append(temp_table)"
   ]
  },
  {
   "cell_type": "code",
   "execution_count": 34,
   "metadata": {},
   "outputs": [
    {
     "data": {
      "text/plain": [
       "['Абай', '100100, 100101']"
      ]
     },
     "execution_count": 34,
     "metadata": {},
     "output_type": "execute_result"
    }
   ],
   "source": [
    "city_zipcode[0]"
   ]
  },
  {
   "cell_type": "code",
   "execution_count": 35,
   "metadata": {},
   "outputs": [],
   "source": [
    "city_current_pop = []"
   ]
  },
  {
   "cell_type": "code",
   "execution_count": 36,
   "metadata": {},
   "outputs": [
    {
     "name": "stdout",
     "output_type": "stream",
     "text": [
      "Wall time: 42.2 s\n"
     ]
    }
   ],
   "source": [
    "%%time\n",
    "for i in range(len(links)):\n",
    "    temp_table = []\n",
    "    temp_table.append(city_list[i])\n",
    "    url_temp = 'https://ru.wikipedia.org'+links[i][0]\n",
    "    res_temp = requests.get(url_temp)\n",
    "    soup_temp = BeautifulSoup(res_temp.text,'lxml')\n",
    "    table_temp = soup_temp.find('table', attrs={'class' : 'infobox'})\n",
    "    for row in table_temp.find_all('td'):\n",
    "        pop = row.find('span', attrs={'data-wikidata-property-id': 'P1082'})\n",
    "        if pop != None:\n",
    "            temp_table.append(pop.text)\n",
    "    city_current_pop.append(temp_table)"
   ]
  },
  {
   "cell_type": "code",
   "execution_count": 37,
   "metadata": {},
   "outputs": [
    {
     "data": {
      "text/plain": [
       "['Абай', '28\\xa0363[1]\\xa0человека (2019)']"
      ]
     },
     "execution_count": 37,
     "metadata": {},
     "output_type": "execute_result"
    }
   ],
   "source": [
    "city_current_pop[0]"
   ]
  },
  {
   "cell_type": "markdown",
   "metadata": {},
   "source": [
    "Now from created lists I will create datasets and merge them with base table"
   ]
  },
  {
   "cell_type": "code",
   "execution_count": 38,
   "metadata": {},
   "outputs": [],
   "source": [
    "area_df = pd.DataFrame(city_area, columns=['title', 'area'])"
   ]
  },
  {
   "cell_type": "code",
   "execution_count": 39,
   "metadata": {},
   "outputs": [],
   "source": [
    "cities = cities.merge(area_df, on='title')"
   ]
  },
  {
   "cell_type": "code",
   "execution_count": 40,
   "metadata": {},
   "outputs": [],
   "source": [
    "altitude_df = pd.DataFrame(city_altitude, columns=['title', 'altitude'])"
   ]
  },
  {
   "cell_type": "code",
   "execution_count": 41,
   "metadata": {},
   "outputs": [],
   "source": [
    "cities = cities.merge(altitude_df, on='title')"
   ]
  },
  {
   "cell_type": "code",
   "execution_count": 42,
   "metadata": {},
   "outputs": [],
   "source": [
    "timezone_df = pd.DataFrame(city_timezone, columns=['title', 'timezone'])"
   ]
  },
  {
   "cell_type": "code",
   "execution_count": 43,
   "metadata": {},
   "outputs": [],
   "source": [
    "cities = cities.merge(timezone_df, on='title')"
   ]
  },
  {
   "cell_type": "code",
   "execution_count": 44,
   "metadata": {},
   "outputs": [],
   "source": [
    "zipcode_df = pd.DataFrame(city_zipcode, columns=['title', 'zipcode'])"
   ]
  },
  {
   "cell_type": "code",
   "execution_count": 45,
   "metadata": {},
   "outputs": [],
   "source": [
    "cities = cities.merge(zipcode_df, on='title')"
   ]
  },
  {
   "cell_type": "code",
   "execution_count": 46,
   "metadata": {},
   "outputs": [],
   "source": [
    "city_current_pop_df = pd.DataFrame(city_current_pop, columns=['title', 'current_pop'])"
   ]
  },
  {
   "cell_type": "code",
   "execution_count": 47,
   "metadata": {},
   "outputs": [],
   "source": [
    "cities = cities.merge(city_current_pop_df, on='title')"
   ]
  },
  {
   "cell_type": "markdown",
   "metadata": {},
   "source": [
    "Probably it could be done by some loop but I didn't get how to make this loop"
   ]
  },
  {
   "cell_type": "code",
   "execution_count": 48,
   "metadata": {},
   "outputs": [
    {
     "data": {
      "text/html": [
       "<div>\n",
       "<style scoped>\n",
       "    .dataframe tbody tr th:only-of-type {\n",
       "        vertical-align: middle;\n",
       "    }\n",
       "\n",
       "    .dataframe tbody tr th {\n",
       "        vertical-align: top;\n",
       "    }\n",
       "\n",
       "    .dataframe thead th {\n",
       "        text-align: right;\n",
       "    }\n",
       "</style>\n",
       "<table border=\"1\" class=\"dataframe\">\n",
       "  <thead>\n",
       "    <tr style=\"text-align: right;\">\n",
       "      <th></th>\n",
       "      <th>title</th>\n",
       "      <th>rus_title</th>\n",
       "      <th>kz_title</th>\n",
       "      <th>city_from</th>\n",
       "      <th>pop_1979</th>\n",
       "      <th>pop_1989</th>\n",
       "      <th>pop_1999</th>\n",
       "      <th>pop_2009</th>\n",
       "      <th>pop_2014</th>\n",
       "      <th>pop_2019</th>\n",
       "      <th>status</th>\n",
       "      <th>region</th>\n",
       "      <th>area</th>\n",
       "      <th>altitude</th>\n",
       "      <th>timezone</th>\n",
       "      <th>zipcode</th>\n",
       "      <th>current_pop</th>\n",
       "    </tr>\n",
       "  </thead>\n",
       "  <tbody>\n",
       "    <tr>\n",
       "      <th>0</th>\n",
       "      <td>Абай</td>\n",
       "      <td>Абай</td>\n",
       "      <td>Абай</td>\n",
       "      <td>1961</td>\n",
       "      <td>39387</td>\n",
       "      <td>46533</td>\n",
       "      <td>33066</td>\n",
       "      <td>25550</td>\n",
       "      <td>27954</td>\n",
       "      <td>28365</td>\n",
       "      <td>4</td>\n",
       "      <td>Карагандинская область</td>\n",
       "      <td>200 км²</td>\n",
       "      <td>504 м</td>\n",
       "      <td>UTC+6:00</td>\n",
       "      <td>100100, 100101</td>\n",
       "      <td>28 363[1] человека (2019)</td>\n",
       "    </tr>\n",
       "    <tr>\n",
       "      <th>1</th>\n",
       "      <td>Акколь</td>\n",
       "      <td>Акколь</td>\n",
       "      <td>Ақкөл</td>\n",
       "      <td>1965</td>\n",
       "      <td>17867</td>\n",
       "      <td>19664</td>\n",
       "      <td>15682</td>\n",
       "      <td>14217</td>\n",
       "      <td>13708</td>\n",
       "      <td>13676</td>\n",
       "      <td>4</td>\n",
       "      <td>Акмолинская область</td>\n",
       "      <td>9400 км²</td>\n",
       "      <td>364 м</td>\n",
       "      <td>UTC+6:00</td>\n",
       "      <td>020100</td>\n",
       "      <td>13 678[1] человек (2019)</td>\n",
       "    </tr>\n",
       "    <tr>\n",
       "      <th>2</th>\n",
       "      <td>Аксай</td>\n",
       "      <td>Аксай</td>\n",
       "      <td>Ақсай</td>\n",
       "      <td>1967</td>\n",
       "      <td>10400</td>\n",
       "      <td>18237</td>\n",
       "      <td>28953</td>\n",
       "      <td>32873</td>\n",
       "      <td>33589</td>\n",
       "      <td>35310</td>\n",
       "      <td>4</td>\n",
       "      <td>Западно-Казахстанская область</td>\n",
       "      <td>None</td>\n",
       "      <td>None</td>\n",
       "      <td>UTC+5:00</td>\n",
       "      <td>090300 — 090302</td>\n",
       "      <td>35 310[1] человек (2019)</td>\n",
       "    </tr>\n",
       "    <tr>\n",
       "      <th>3</th>\n",
       "      <td>Аксу</td>\n",
       "      <td>Аксу</td>\n",
       "      <td>Ақсу</td>\n",
       "      <td>1961</td>\n",
       "      <td>41572</td>\n",
       "      <td>47067</td>\n",
       "      <td>42264</td>\n",
       "      <td>41677</td>\n",
       "      <td>42519</td>\n",
       "      <td>41639</td>\n",
       "      <td>3</td>\n",
       "      <td>Павлодарская область</td>\n",
       "      <td>8,08966 км²</td>\n",
       "      <td>None</td>\n",
       "      <td>UTC+6:00</td>\n",
       "      <td>140100—140104</td>\n",
       "      <td>41 625[1] человек (2019)</td>\n",
       "    </tr>\n",
       "    <tr>\n",
       "      <th>4</th>\n",
       "      <td>Актау</td>\n",
       "      <td>Актау</td>\n",
       "      <td>Ақтау</td>\n",
       "      <td>1963</td>\n",
       "      <td>110575</td>\n",
       "      <td>159245</td>\n",
       "      <td>143396</td>\n",
       "      <td>166962</td>\n",
       "      <td>182033</td>\n",
       "      <td>183006</td>\n",
       "      <td>2</td>\n",
       "      <td>Мангистауская область</td>\n",
       "      <td>76,48 (городской акимат) км²</td>\n",
       "      <td>−8 м</td>\n",
       "      <td>UTC+5:00</td>\n",
       "      <td>130000</td>\n",
       "      <td>&amp;&amp;&amp;&amp;&amp;&amp;&amp;&amp;&amp;0193494.&amp;&amp;&amp;&amp;&amp;0193 494[1] человека (2020)</td>\n",
       "    </tr>\n",
       "  </tbody>\n",
       "</table>\n",
       "</div>"
      ],
      "text/plain": [
       "    title rus_title kz_title city_from pop_1979 pop_1989 pop_1999 pop_2009  \\\n",
       "0    Абай      Абай     Абай      1961    39387    46533    33066    25550   \n",
       "1  Акколь    Акколь    Ақкөл      1965    17867    19664    15682    14217   \n",
       "2   Аксай     Аксай    Ақсай      1967    10400    18237    28953    32873   \n",
       "3    Аксу      Аксу     Ақсу      1961    41572    47067    42264    41677   \n",
       "4   Актау     Актау    Ақтау      1963   110575   159245   143396   166962   \n",
       "\n",
       "  pop_2014 pop_2019 status                         region  \\\n",
       "0    27954    28365      4         Карагандинская область   \n",
       "1    13708    13676      4            Акмолинская область   \n",
       "2    33589    35310      4  Западно-Казахстанская область   \n",
       "3    42519    41639      3           Павлодарская область   \n",
       "4   182033   183006      2          Мангистауская область   \n",
       "\n",
       "                           area altitude  timezone          zipcode  \\\n",
       "0                       200 км²    504 м  UTC+6:00   100100, 100101   \n",
       "1                      9400 км²    364 м  UTC+6:00           020100   \n",
       "2                          None     None  UTC+5:00  090300 — 090302   \n",
       "3                   8,08966 км²     None  UTC+6:00    140100—140104   \n",
       "4  76,48 (городской акимат) км²     −8 м  UTC+5:00           130000   \n",
       "\n",
       "                                         current_pop  \n",
       "0                          28 363[1] человека (2019)  \n",
       "1                           13 678[1] человек (2019)  \n",
       "2                           35 310[1] человек (2019)  \n",
       "3                           41 625[1] человек (2019)  \n",
       "4  &&&&&&&&&0193494.&&&&&0193 494[1] человека (2020)  "
      ]
     },
     "execution_count": 48,
     "metadata": {},
     "output_type": "execute_result"
    }
   ],
   "source": [
    "cities.head()"
   ]
  },
  {
   "cell_type": "markdown",
   "metadata": {},
   "source": [
    "Same for coordinates"
   ]
  },
  {
   "cell_type": "code",
   "execution_count": 49,
   "metadata": {},
   "outputs": [],
   "source": [
    "data_lat = []"
   ]
  },
  {
   "cell_type": "code",
   "execution_count": 50,
   "metadata": {},
   "outputs": [
    {
     "name": "stdout",
     "output_type": "stream",
     "text": [
      "Wall time: 31.9 s\n"
     ]
    }
   ],
   "source": [
    "%%time\n",
    "for i in range(len(links)):\n",
    "    temp_table = []\n",
    "    temp_table.append(city_list[i])\n",
    "    url_temp = 'https://ru.wikipedia.org'+links[i][0]\n",
    "    res_temp = requests.get(url_temp)\n",
    "    soup_temp = BeautifulSoup(res_temp.text,'lxml')\n",
    "    table_temp = soup_temp.find('table', attrs={'class' : 'infobox'})\n",
    "    for row in table_temp.find_all('td'):\n",
    "        lat = row.find_all('a', attrs={'class' : 'mw-kartographer-maplink'})\n",
    "        if lat != []:\n",
    "            temp_table.append(lat[0]['data-lat'])\n",
    "            temp_table.append(lat[0]['data-lon'])\n",
    "    data_lat.append(temp_table)"
   ]
  },
  {
   "cell_type": "code",
   "execution_count": 51,
   "metadata": {},
   "outputs": [],
   "source": [
    "coord_df = pd.DataFrame(data_lat, columns=['title', 'lat', 'lon'])"
   ]
  },
  {
   "cell_type": "code",
   "execution_count": 52,
   "metadata": {},
   "outputs": [],
   "source": [
    "cities = cities.merge(coord_df, on='title')"
   ]
  },
  {
   "cell_type": "code",
   "execution_count": 53,
   "metadata": {},
   "outputs": [
    {
     "data": {
      "text/html": [
       "<div>\n",
       "<style scoped>\n",
       "    .dataframe tbody tr th:only-of-type {\n",
       "        vertical-align: middle;\n",
       "    }\n",
       "\n",
       "    .dataframe tbody tr th {\n",
       "        vertical-align: top;\n",
       "    }\n",
       "\n",
       "    .dataframe thead th {\n",
       "        text-align: right;\n",
       "    }\n",
       "</style>\n",
       "<table border=\"1\" class=\"dataframe\">\n",
       "  <thead>\n",
       "    <tr style=\"text-align: right;\">\n",
       "      <th></th>\n",
       "      <th>title</th>\n",
       "      <th>rus_title</th>\n",
       "      <th>kz_title</th>\n",
       "      <th>city_from</th>\n",
       "      <th>pop_1979</th>\n",
       "      <th>pop_1989</th>\n",
       "      <th>pop_1999</th>\n",
       "      <th>pop_2009</th>\n",
       "      <th>pop_2014</th>\n",
       "      <th>pop_2019</th>\n",
       "      <th>status</th>\n",
       "      <th>region</th>\n",
       "      <th>area</th>\n",
       "      <th>altitude</th>\n",
       "      <th>timezone</th>\n",
       "      <th>zipcode</th>\n",
       "      <th>current_pop</th>\n",
       "      <th>lat</th>\n",
       "      <th>lon</th>\n",
       "    </tr>\n",
       "  </thead>\n",
       "  <tbody>\n",
       "    <tr>\n",
       "      <th>0</th>\n",
       "      <td>Абай</td>\n",
       "      <td>Абай</td>\n",
       "      <td>Абай</td>\n",
       "      <td>1961</td>\n",
       "      <td>39387</td>\n",
       "      <td>46533</td>\n",
       "      <td>33066</td>\n",
       "      <td>25550</td>\n",
       "      <td>27954</td>\n",
       "      <td>28365</td>\n",
       "      <td>4</td>\n",
       "      <td>Карагандинская область</td>\n",
       "      <td>200 км²</td>\n",
       "      <td>504 м</td>\n",
       "      <td>UTC+6:00</td>\n",
       "      <td>100100, 100101</td>\n",
       "      <td>28 363[1] человека (2019)</td>\n",
       "      <td>49.63333</td>\n",
       "      <td>72.85</td>\n",
       "    </tr>\n",
       "    <tr>\n",
       "      <th>1</th>\n",
       "      <td>Акколь</td>\n",
       "      <td>Акколь</td>\n",
       "      <td>Ақкөл</td>\n",
       "      <td>1965</td>\n",
       "      <td>17867</td>\n",
       "      <td>19664</td>\n",
       "      <td>15682</td>\n",
       "      <td>14217</td>\n",
       "      <td>13708</td>\n",
       "      <td>13676</td>\n",
       "      <td>4</td>\n",
       "      <td>Акмолинская область</td>\n",
       "      <td>9400 км²</td>\n",
       "      <td>364 м</td>\n",
       "      <td>UTC+6:00</td>\n",
       "      <td>020100</td>\n",
       "      <td>13 678[1] человек (2019)</td>\n",
       "      <td>52</td>\n",
       "      <td>70.93333</td>\n",
       "    </tr>\n",
       "    <tr>\n",
       "      <th>2</th>\n",
       "      <td>Аксай</td>\n",
       "      <td>Аксай</td>\n",
       "      <td>Ақсай</td>\n",
       "      <td>1967</td>\n",
       "      <td>10400</td>\n",
       "      <td>18237</td>\n",
       "      <td>28953</td>\n",
       "      <td>32873</td>\n",
       "      <td>33589</td>\n",
       "      <td>35310</td>\n",
       "      <td>4</td>\n",
       "      <td>Западно-Казахстанская область</td>\n",
       "      <td>None</td>\n",
       "      <td>None</td>\n",
       "      <td>UTC+5:00</td>\n",
       "      <td>090300 — 090302</td>\n",
       "      <td>35 310[1] человек (2019)</td>\n",
       "      <td>51.16778</td>\n",
       "      <td>52.995</td>\n",
       "    </tr>\n",
       "    <tr>\n",
       "      <th>3</th>\n",
       "      <td>Аксу</td>\n",
       "      <td>Аксу</td>\n",
       "      <td>Ақсу</td>\n",
       "      <td>1961</td>\n",
       "      <td>41572</td>\n",
       "      <td>47067</td>\n",
       "      <td>42264</td>\n",
       "      <td>41677</td>\n",
       "      <td>42519</td>\n",
       "      <td>41639</td>\n",
       "      <td>3</td>\n",
       "      <td>Павлодарская область</td>\n",
       "      <td>8,08966 км²</td>\n",
       "      <td>None</td>\n",
       "      <td>UTC+6:00</td>\n",
       "      <td>140100—140104</td>\n",
       "      <td>41 625[1] человек (2019)</td>\n",
       "      <td>52.03333</td>\n",
       "      <td>76.91667</td>\n",
       "    </tr>\n",
       "    <tr>\n",
       "      <th>4</th>\n",
       "      <td>Актау</td>\n",
       "      <td>Актау</td>\n",
       "      <td>Ақтау</td>\n",
       "      <td>1963</td>\n",
       "      <td>110575</td>\n",
       "      <td>159245</td>\n",
       "      <td>143396</td>\n",
       "      <td>166962</td>\n",
       "      <td>182033</td>\n",
       "      <td>183006</td>\n",
       "      <td>2</td>\n",
       "      <td>Мангистауская область</td>\n",
       "      <td>76,48 (городской акимат) км²</td>\n",
       "      <td>−8 м</td>\n",
       "      <td>UTC+5:00</td>\n",
       "      <td>130000</td>\n",
       "      <td>&amp;&amp;&amp;&amp;&amp;&amp;&amp;&amp;&amp;0193494.&amp;&amp;&amp;&amp;&amp;0193 494[1] человека (2020)</td>\n",
       "      <td>43.65</td>\n",
       "      <td>51.15</td>\n",
       "    </tr>\n",
       "  </tbody>\n",
       "</table>\n",
       "</div>"
      ],
      "text/plain": [
       "    title rus_title kz_title city_from pop_1979 pop_1989 pop_1999 pop_2009  \\\n",
       "0    Абай      Абай     Абай      1961    39387    46533    33066    25550   \n",
       "1  Акколь    Акколь    Ақкөл      1965    17867    19664    15682    14217   \n",
       "2   Аксай     Аксай    Ақсай      1967    10400    18237    28953    32873   \n",
       "3    Аксу      Аксу     Ақсу      1961    41572    47067    42264    41677   \n",
       "4   Актау     Актау    Ақтау      1963   110575   159245   143396   166962   \n",
       "\n",
       "  pop_2014 pop_2019 status                         region  \\\n",
       "0    27954    28365      4         Карагандинская область   \n",
       "1    13708    13676      4            Акмолинская область   \n",
       "2    33589    35310      4  Западно-Казахстанская область   \n",
       "3    42519    41639      3           Павлодарская область   \n",
       "4   182033   183006      2          Мангистауская область   \n",
       "\n",
       "                           area altitude  timezone          zipcode  \\\n",
       "0                       200 км²    504 м  UTC+6:00   100100, 100101   \n",
       "1                      9400 км²    364 м  UTC+6:00           020100   \n",
       "2                          None     None  UTC+5:00  090300 — 090302   \n",
       "3                   8,08966 км²     None  UTC+6:00    140100—140104   \n",
       "4  76,48 (городской акимат) км²     −8 м  UTC+5:00           130000   \n",
       "\n",
       "                                         current_pop       lat       lon  \n",
       "0                          28 363[1] человека (2019)  49.63333     72.85  \n",
       "1                           13 678[1] человек (2019)        52  70.93333  \n",
       "2                           35 310[1] человек (2019)  51.16778    52.995  \n",
       "3                           41 625[1] человек (2019)  52.03333  76.91667  \n",
       "4  &&&&&&&&&0193494.&&&&&0193 494[1] человека (2020)     43.65     51.15  "
      ]
     },
     "execution_count": 53,
     "metadata": {},
     "output_type": "execute_result"
    }
   ],
   "source": [
    "cities.head()"
   ]
  },
  {
   "cell_type": "code",
   "execution_count": 54,
   "metadata": {},
   "outputs": [
    {
     "name": "stdout",
     "output_type": "stream",
     "text": [
      "<class 'pandas.core.frame.DataFrame'>\n",
      "Int64Index: 88 entries, 0 to 87\n",
      "Data columns (total 19 columns):\n",
      " #   Column       Non-Null Count  Dtype \n",
      "---  ------       --------------  ----- \n",
      " 0   title        88 non-null     object\n",
      " 1   rus_title    88 non-null     object\n",
      " 2   kz_title     88 non-null     object\n",
      " 3   city_from    88 non-null     object\n",
      " 4   pop_1979     44 non-null     object\n",
      " 5   pop_1989     62 non-null     object\n",
      " 6   pop_1999     88 non-null     object\n",
      " 7   pop_2009     88 non-null     object\n",
      " 8   pop_2014     88 non-null     object\n",
      " 9   pop_2019     88 non-null     object\n",
      " 10  status       88 non-null     object\n",
      " 11  region       88 non-null     object\n",
      " 12  area         51 non-null     object\n",
      " 13  altitude     38 non-null     object\n",
      " 14  timezone     86 non-null     object\n",
      " 15  zipcode      87 non-null     object\n",
      " 16  current_pop  88 non-null     object\n",
      " 17  lat          88 non-null     object\n",
      " 18  lon          88 non-null     object\n",
      "dtypes: object(19)\n",
      "memory usage: 13.8+ KB\n"
     ]
    }
   ],
   "source": [
    "cities.info()"
   ]
  },
  {
   "cell_type": "markdown",
   "metadata": {},
   "source": [
    "### Preprocessing"
   ]
  },
  {
   "cell_type": "markdown",
   "metadata": {},
   "source": [
    "As you can see there are a lot of waste info in rows. Gonna try to work it out"
   ]
  },
  {
   "cell_type": "markdown",
   "metadata": {},
   "source": [
    "First will be area column"
   ]
  },
  {
   "cell_type": "code",
   "execution_count": 55,
   "metadata": {},
   "outputs": [],
   "source": [
    "cities['area'] = cities['area'].str.replace(',' , '.') #replcaing the comas to dots"
   ]
  },
  {
   "cell_type": "code",
   "execution_count": 56,
   "metadata": {},
   "outputs": [],
   "source": [
    "cities['area'] = cities['area'].str.replace(u'\\xa0' , u' ') #replcaing this space to normal one"
   ]
  },
  {
   "cell_type": "code",
   "execution_count": 57,
   "metadata": {},
   "outputs": [],
   "source": [
    "cities['area'] = cities['area'].str.replace(' ' , '') #replcaing the spaces to nothing"
   ]
  },
  {
   "cell_type": "code",
   "execution_count": 58,
   "metadata": {},
   "outputs": [],
   "source": [
    "cities['area'] = cities['area'].str.lower() #changing to lowercase"
   ]
  },
  {
   "cell_type": "code",
   "execution_count": 59,
   "metadata": {
    "scrolled": true
   },
   "outputs": [
    {
     "data": {
      "text/plain": [
       "array(['200км²', '9400км²', None, '8.08966км²',\n",
       "       '76.48(городскойакимат)км²', '428.469[1]км²', '682[1]км²', '10км²',\n",
       "       '797.33[1]км²', '68.7км²', '160.73[1]км²', '54.98[3]км²', '230км²',\n",
       "       '47.3км²', '51.5га', '7.3км²', '56.03км²',\n",
       "       '279(собственногород)498(городскойакимат)[2]км²', '12662км²',\n",
       "       '71.04(вграницахгорода[1]);77.45(вграницахгородскогоакимата.июнь2018[2])км²',\n",
       "       '233.97(вграницахгорода)[4];га-425(вграницахакимата)[5]км²',\n",
       "       '247км²', '110км²', '240км²', '20.47км²', '0.1тыс.[1]км²',\n",
       "       '632[2]км²', '224.9км²', '54.5км²', '77.52[2]км²', '193.13[2]км²',\n",
       "       '174км²', '28.5км²', '210км²', '25.74км²', '158.36[2]км²',\n",
       "       '18.8км²', '74км²', '187.87[1]км²', '296.1км²', '25.7[2]км²',\n",
       "       '196.27[2]км²', '209.83[2]км²', '540[2]км²', '279.56км²',\n",
       "       '4.8тыс.км²', '20км²', '1162.8[4]км²', '188км²'], dtype=object)"
      ]
     },
     "execution_count": 59,
     "metadata": {},
     "output_type": "execute_result"
    }
   ],
   "source": [
    "cities['area'].unique()"
   ]
  },
  {
   "cell_type": "markdown",
   "metadata": {},
   "source": [
    "Different units for area could cause the problems. I will create special columns with units"
   ]
  },
  {
   "cell_type": "code",
   "execution_count": 60,
   "metadata": {},
   "outputs": [],
   "source": [
    "def units_define(text):\n",
    "    if text != None:\n",
    "        if 'тыс.' in text:\n",
    "            return 'тыс. км²'\n",
    "        else:\n",
    "            if 'км²' in text:\n",
    "                return 'км²'\n",
    "            else:\n",
    "                if 'га' in text:\n",
    "                    return 'га'\n",
    "                else:\n",
    "                    return None\n",
    "    else:\n",
    "        return None"
   ]
  },
  {
   "cell_type": "code",
   "execution_count": 61,
   "metadata": {},
   "outputs": [],
   "source": [
    "cities['area_units'] = cities['area'].apply(units_define)"
   ]
  },
  {
   "cell_type": "code",
   "execution_count": 62,
   "metadata": {},
   "outputs": [
    {
     "data": {
      "text/plain": [
       "array(['км²', None, 'га', 'тыс. км²'], dtype=object)"
      ]
     },
     "execution_count": 62,
     "metadata": {},
     "output_type": "execute_result"
    }
   ],
   "source": [
    "cities['area_units'].unique()"
   ]
  },
  {
   "cell_type": "markdown",
   "metadata": {},
   "source": [
    "Now I will take clear figures from cells using function below"
   ]
  },
  {
   "cell_type": "code",
   "execution_count": 63,
   "metadata": {},
   "outputs": [],
   "source": [
    "def find_number(text):\n",
    "    number = []\n",
    "    if text != None:\n",
    "        for letter in text:\n",
    "            if letter in ['k', '(', '[', 'к', 'г', 'т', 'м', ';']:\n",
    "                break\n",
    "            else:\n",
    "                number.append(letter)\n",
    "    return ''.join(number)"
   ]
  },
  {
   "cell_type": "code",
   "execution_count": 64,
   "metadata": {},
   "outputs": [
    {
     "name": "stdout",
     "output_type": "stream",
     "text": [
      "76.48\n"
     ]
    }
   ],
   "source": [
    "print(find_number('76.48(городскойакимат)км²')) #checking"
   ]
  },
  {
   "cell_type": "code",
   "execution_count": 65,
   "metadata": {},
   "outputs": [],
   "source": [
    "cities['area'] = cities['area'].apply(lambda x: find_number(x))"
   ]
  },
  {
   "cell_type": "code",
   "execution_count": 66,
   "metadata": {},
   "outputs": [
    {
     "data": {
      "text/html": [
       "<div>\n",
       "<style scoped>\n",
       "    .dataframe tbody tr th:only-of-type {\n",
       "        vertical-align: middle;\n",
       "    }\n",
       "\n",
       "    .dataframe tbody tr th {\n",
       "        vertical-align: top;\n",
       "    }\n",
       "\n",
       "    .dataframe thead th {\n",
       "        text-align: right;\n",
       "    }\n",
       "</style>\n",
       "<table border=\"1\" class=\"dataframe\">\n",
       "  <thead>\n",
       "    <tr style=\"text-align: right;\">\n",
       "      <th></th>\n",
       "      <th>title</th>\n",
       "      <th>rus_title</th>\n",
       "      <th>kz_title</th>\n",
       "      <th>city_from</th>\n",
       "      <th>pop_1979</th>\n",
       "      <th>pop_1989</th>\n",
       "      <th>pop_1999</th>\n",
       "      <th>pop_2009</th>\n",
       "      <th>pop_2014</th>\n",
       "      <th>pop_2019</th>\n",
       "      <th>status</th>\n",
       "      <th>region</th>\n",
       "      <th>area</th>\n",
       "      <th>altitude</th>\n",
       "      <th>timezone</th>\n",
       "      <th>zipcode</th>\n",
       "      <th>current_pop</th>\n",
       "      <th>lat</th>\n",
       "      <th>lon</th>\n",
       "      <th>area_units</th>\n",
       "    </tr>\n",
       "  </thead>\n",
       "  <tbody>\n",
       "    <tr>\n",
       "      <th>0</th>\n",
       "      <td>Абай</td>\n",
       "      <td>Абай</td>\n",
       "      <td>Абай</td>\n",
       "      <td>1961</td>\n",
       "      <td>39387</td>\n",
       "      <td>46533</td>\n",
       "      <td>33066</td>\n",
       "      <td>25550</td>\n",
       "      <td>27954</td>\n",
       "      <td>28365</td>\n",
       "      <td>4</td>\n",
       "      <td>Карагандинская область</td>\n",
       "      <td>200</td>\n",
       "      <td>504 м</td>\n",
       "      <td>UTC+6:00</td>\n",
       "      <td>100100, 100101</td>\n",
       "      <td>28 363[1] человека (2019)</td>\n",
       "      <td>49.63333</td>\n",
       "      <td>72.85</td>\n",
       "      <td>км²</td>\n",
       "    </tr>\n",
       "    <tr>\n",
       "      <th>1</th>\n",
       "      <td>Акколь</td>\n",
       "      <td>Акколь</td>\n",
       "      <td>Ақкөл</td>\n",
       "      <td>1965</td>\n",
       "      <td>17867</td>\n",
       "      <td>19664</td>\n",
       "      <td>15682</td>\n",
       "      <td>14217</td>\n",
       "      <td>13708</td>\n",
       "      <td>13676</td>\n",
       "      <td>4</td>\n",
       "      <td>Акмолинская область</td>\n",
       "      <td>9400</td>\n",
       "      <td>364 м</td>\n",
       "      <td>UTC+6:00</td>\n",
       "      <td>020100</td>\n",
       "      <td>13 678[1] человек (2019)</td>\n",
       "      <td>52</td>\n",
       "      <td>70.93333</td>\n",
       "      <td>км²</td>\n",
       "    </tr>\n",
       "    <tr>\n",
       "      <th>2</th>\n",
       "      <td>Аксай</td>\n",
       "      <td>Аксай</td>\n",
       "      <td>Ақсай</td>\n",
       "      <td>1967</td>\n",
       "      <td>10400</td>\n",
       "      <td>18237</td>\n",
       "      <td>28953</td>\n",
       "      <td>32873</td>\n",
       "      <td>33589</td>\n",
       "      <td>35310</td>\n",
       "      <td>4</td>\n",
       "      <td>Западно-Казахстанская область</td>\n",
       "      <td></td>\n",
       "      <td>None</td>\n",
       "      <td>UTC+5:00</td>\n",
       "      <td>090300 — 090302</td>\n",
       "      <td>35 310[1] человек (2019)</td>\n",
       "      <td>51.16778</td>\n",
       "      <td>52.995</td>\n",
       "      <td>None</td>\n",
       "    </tr>\n",
       "    <tr>\n",
       "      <th>3</th>\n",
       "      <td>Аксу</td>\n",
       "      <td>Аксу</td>\n",
       "      <td>Ақсу</td>\n",
       "      <td>1961</td>\n",
       "      <td>41572</td>\n",
       "      <td>47067</td>\n",
       "      <td>42264</td>\n",
       "      <td>41677</td>\n",
       "      <td>42519</td>\n",
       "      <td>41639</td>\n",
       "      <td>3</td>\n",
       "      <td>Павлодарская область</td>\n",
       "      <td>8.08966</td>\n",
       "      <td>None</td>\n",
       "      <td>UTC+6:00</td>\n",
       "      <td>140100—140104</td>\n",
       "      <td>41 625[1] человек (2019)</td>\n",
       "      <td>52.03333</td>\n",
       "      <td>76.91667</td>\n",
       "      <td>км²</td>\n",
       "    </tr>\n",
       "    <tr>\n",
       "      <th>4</th>\n",
       "      <td>Актау</td>\n",
       "      <td>Актау</td>\n",
       "      <td>Ақтау</td>\n",
       "      <td>1963</td>\n",
       "      <td>110575</td>\n",
       "      <td>159245</td>\n",
       "      <td>143396</td>\n",
       "      <td>166962</td>\n",
       "      <td>182033</td>\n",
       "      <td>183006</td>\n",
       "      <td>2</td>\n",
       "      <td>Мангистауская область</td>\n",
       "      <td>76.48</td>\n",
       "      <td>−8 м</td>\n",
       "      <td>UTC+5:00</td>\n",
       "      <td>130000</td>\n",
       "      <td>&amp;&amp;&amp;&amp;&amp;&amp;&amp;&amp;&amp;0193494.&amp;&amp;&amp;&amp;&amp;0193 494[1] человека (2020)</td>\n",
       "      <td>43.65</td>\n",
       "      <td>51.15</td>\n",
       "      <td>км²</td>\n",
       "    </tr>\n",
       "  </tbody>\n",
       "</table>\n",
       "</div>"
      ],
      "text/plain": [
       "    title rus_title kz_title city_from pop_1979 pop_1989 pop_1999 pop_2009  \\\n",
       "0    Абай      Абай     Абай      1961    39387    46533    33066    25550   \n",
       "1  Акколь    Акколь    Ақкөл      1965    17867    19664    15682    14217   \n",
       "2   Аксай     Аксай    Ақсай      1967    10400    18237    28953    32873   \n",
       "3    Аксу      Аксу     Ақсу      1961    41572    47067    42264    41677   \n",
       "4   Актау     Актау    Ақтау      1963   110575   159245   143396   166962   \n",
       "\n",
       "  pop_2014 pop_2019 status                         region     area altitude  \\\n",
       "0    27954    28365      4         Карагандинская область      200    504 м   \n",
       "1    13708    13676      4            Акмолинская область     9400    364 м   \n",
       "2    33589    35310      4  Западно-Казахстанская область              None   \n",
       "3    42519    41639      3           Павлодарская область  8.08966     None   \n",
       "4   182033   183006      2          Мангистауская область    76.48     −8 м   \n",
       "\n",
       "   timezone          zipcode  \\\n",
       "0  UTC+6:00   100100, 100101   \n",
       "1  UTC+6:00           020100   \n",
       "2  UTC+5:00  090300 — 090302   \n",
       "3  UTC+6:00    140100—140104   \n",
       "4  UTC+5:00           130000   \n",
       "\n",
       "                                         current_pop       lat       lon  \\\n",
       "0                          28 363[1] человека (2019)  49.63333     72.85   \n",
       "1                           13 678[1] человек (2019)        52  70.93333   \n",
       "2                           35 310[1] человек (2019)  51.16778    52.995   \n",
       "3                           41 625[1] человек (2019)  52.03333  76.91667   \n",
       "4  &&&&&&&&&0193494.&&&&&0193 494[1] человека (2020)     43.65     51.15   \n",
       "\n",
       "  area_units  \n",
       "0        км²  \n",
       "1        км²  \n",
       "2       None  \n",
       "3        км²  \n",
       "4        км²  "
      ]
     },
     "execution_count": 66,
     "metadata": {},
     "output_type": "execute_result"
    }
   ],
   "source": [
    "cities.head()"
   ]
  },
  {
   "cell_type": "markdown",
   "metadata": {},
   "source": [
    "Now I need to fill empty cells with nan to be able to change the type of the data"
   ]
  },
  {
   "cell_type": "code",
   "execution_count": 67,
   "metadata": {},
   "outputs": [],
   "source": [
    "cities['area'] = cities['area'].replace('', np.nan)"
   ]
  },
  {
   "cell_type": "code",
   "execution_count": 68,
   "metadata": {},
   "outputs": [],
   "source": [
    "cities['area'] = cities['area'].astype('float64')"
   ]
  },
  {
   "cell_type": "markdown",
   "metadata": {},
   "source": [
    "Now I will write the function wich one will change area to square km based on the area_units column"
   ]
  },
  {
   "cell_type": "code",
   "execution_count": 69,
   "metadata": {},
   "outputs": [
    {
     "data": {
      "text/plain": [
       "array(['км²', None, 'га', 'тыс. км²'], dtype=object)"
      ]
     },
     "execution_count": 69,
     "metadata": {},
     "output_type": "execute_result"
    }
   ],
   "source": [
    "cities['area_units'].unique()"
   ]
  },
  {
   "cell_type": "code",
   "execution_count": 70,
   "metadata": {},
   "outputs": [],
   "source": [
    "def square_m(amount, ref):\n",
    "    if ref == 'га':\n",
    "        return amount/100\n",
    "    elif ref == 'тыс. км²':\n",
    "        return amount*1000\n",
    "    else:\n",
    "        return amount"
   ]
  },
  {
   "cell_type": "code",
   "execution_count": 71,
   "metadata": {},
   "outputs": [
    {
     "name": "stdout",
     "output_type": "stream",
     "text": [
      "nan\n"
     ]
    }
   ],
   "source": [
    "print(square_m(np.nan, None))"
   ]
  },
  {
   "cell_type": "code",
   "execution_count": 72,
   "metadata": {},
   "outputs": [],
   "source": [
    "cities['area'] = cities.apply(lambda x: square_m(x['area'], x['area_units']), axis=1)"
   ]
  },
  {
   "cell_type": "code",
   "execution_count": 73,
   "metadata": {},
   "outputs": [
    {
     "data": {
      "text/html": [
       "<div>\n",
       "<style scoped>\n",
       "    .dataframe tbody tr th:only-of-type {\n",
       "        vertical-align: middle;\n",
       "    }\n",
       "\n",
       "    .dataframe tbody tr th {\n",
       "        vertical-align: top;\n",
       "    }\n",
       "\n",
       "    .dataframe thead th {\n",
       "        text-align: right;\n",
       "    }\n",
       "</style>\n",
       "<table border=\"1\" class=\"dataframe\">\n",
       "  <thead>\n",
       "    <tr style=\"text-align: right;\">\n",
       "      <th></th>\n",
       "      <th>title</th>\n",
       "      <th>rus_title</th>\n",
       "      <th>kz_title</th>\n",
       "      <th>city_from</th>\n",
       "      <th>pop_1979</th>\n",
       "      <th>pop_1989</th>\n",
       "      <th>pop_1999</th>\n",
       "      <th>pop_2009</th>\n",
       "      <th>pop_2014</th>\n",
       "      <th>pop_2019</th>\n",
       "      <th>status</th>\n",
       "      <th>region</th>\n",
       "      <th>area</th>\n",
       "      <th>altitude</th>\n",
       "      <th>timezone</th>\n",
       "      <th>zipcode</th>\n",
       "      <th>current_pop</th>\n",
       "      <th>lat</th>\n",
       "      <th>lon</th>\n",
       "      <th>area_units</th>\n",
       "    </tr>\n",
       "  </thead>\n",
       "  <tbody>\n",
       "    <tr>\n",
       "      <th>0</th>\n",
       "      <td>Абай</td>\n",
       "      <td>Абай</td>\n",
       "      <td>Абай</td>\n",
       "      <td>1961</td>\n",
       "      <td>39387</td>\n",
       "      <td>46533</td>\n",
       "      <td>33066</td>\n",
       "      <td>25550</td>\n",
       "      <td>27954</td>\n",
       "      <td>28365</td>\n",
       "      <td>4</td>\n",
       "      <td>Карагандинская область</td>\n",
       "      <td>200.00000</td>\n",
       "      <td>504 м</td>\n",
       "      <td>UTC+6:00</td>\n",
       "      <td>100100, 100101</td>\n",
       "      <td>28 363[1] человека (2019)</td>\n",
       "      <td>49.63333</td>\n",
       "      <td>72.85</td>\n",
       "      <td>км²</td>\n",
       "    </tr>\n",
       "    <tr>\n",
       "      <th>1</th>\n",
       "      <td>Акколь</td>\n",
       "      <td>Акколь</td>\n",
       "      <td>Ақкөл</td>\n",
       "      <td>1965</td>\n",
       "      <td>17867</td>\n",
       "      <td>19664</td>\n",
       "      <td>15682</td>\n",
       "      <td>14217</td>\n",
       "      <td>13708</td>\n",
       "      <td>13676</td>\n",
       "      <td>4</td>\n",
       "      <td>Акмолинская область</td>\n",
       "      <td>9400.00000</td>\n",
       "      <td>364 м</td>\n",
       "      <td>UTC+6:00</td>\n",
       "      <td>020100</td>\n",
       "      <td>13 678[1] человек (2019)</td>\n",
       "      <td>52</td>\n",
       "      <td>70.93333</td>\n",
       "      <td>км²</td>\n",
       "    </tr>\n",
       "    <tr>\n",
       "      <th>2</th>\n",
       "      <td>Аксай</td>\n",
       "      <td>Аксай</td>\n",
       "      <td>Ақсай</td>\n",
       "      <td>1967</td>\n",
       "      <td>10400</td>\n",
       "      <td>18237</td>\n",
       "      <td>28953</td>\n",
       "      <td>32873</td>\n",
       "      <td>33589</td>\n",
       "      <td>35310</td>\n",
       "      <td>4</td>\n",
       "      <td>Западно-Казахстанская область</td>\n",
       "      <td>NaN</td>\n",
       "      <td>None</td>\n",
       "      <td>UTC+5:00</td>\n",
       "      <td>090300 — 090302</td>\n",
       "      <td>35 310[1] человек (2019)</td>\n",
       "      <td>51.16778</td>\n",
       "      <td>52.995</td>\n",
       "      <td>None</td>\n",
       "    </tr>\n",
       "    <tr>\n",
       "      <th>3</th>\n",
       "      <td>Аксу</td>\n",
       "      <td>Аксу</td>\n",
       "      <td>Ақсу</td>\n",
       "      <td>1961</td>\n",
       "      <td>41572</td>\n",
       "      <td>47067</td>\n",
       "      <td>42264</td>\n",
       "      <td>41677</td>\n",
       "      <td>42519</td>\n",
       "      <td>41639</td>\n",
       "      <td>3</td>\n",
       "      <td>Павлодарская область</td>\n",
       "      <td>8.08966</td>\n",
       "      <td>None</td>\n",
       "      <td>UTC+6:00</td>\n",
       "      <td>140100—140104</td>\n",
       "      <td>41 625[1] человек (2019)</td>\n",
       "      <td>52.03333</td>\n",
       "      <td>76.91667</td>\n",
       "      <td>км²</td>\n",
       "    </tr>\n",
       "    <tr>\n",
       "      <th>4</th>\n",
       "      <td>Актау</td>\n",
       "      <td>Актау</td>\n",
       "      <td>Ақтау</td>\n",
       "      <td>1963</td>\n",
       "      <td>110575</td>\n",
       "      <td>159245</td>\n",
       "      <td>143396</td>\n",
       "      <td>166962</td>\n",
       "      <td>182033</td>\n",
       "      <td>183006</td>\n",
       "      <td>2</td>\n",
       "      <td>Мангистауская область</td>\n",
       "      <td>76.48000</td>\n",
       "      <td>−8 м</td>\n",
       "      <td>UTC+5:00</td>\n",
       "      <td>130000</td>\n",
       "      <td>&amp;&amp;&amp;&amp;&amp;&amp;&amp;&amp;&amp;0193494.&amp;&amp;&amp;&amp;&amp;0193 494[1] человека (2020)</td>\n",
       "      <td>43.65</td>\n",
       "      <td>51.15</td>\n",
       "      <td>км²</td>\n",
       "    </tr>\n",
       "  </tbody>\n",
       "</table>\n",
       "</div>"
      ],
      "text/plain": [
       "    title rus_title kz_title city_from pop_1979 pop_1989 pop_1999 pop_2009  \\\n",
       "0    Абай      Абай     Абай      1961    39387    46533    33066    25550   \n",
       "1  Акколь    Акколь    Ақкөл      1965    17867    19664    15682    14217   \n",
       "2   Аксай     Аксай    Ақсай      1967    10400    18237    28953    32873   \n",
       "3    Аксу      Аксу     Ақсу      1961    41572    47067    42264    41677   \n",
       "4   Актау     Актау    Ақтау      1963   110575   159245   143396   166962   \n",
       "\n",
       "  pop_2014 pop_2019 status                         region        area  \\\n",
       "0    27954    28365      4         Карагандинская область   200.00000   \n",
       "1    13708    13676      4            Акмолинская область  9400.00000   \n",
       "2    33589    35310      4  Западно-Казахстанская область         NaN   \n",
       "3    42519    41639      3           Павлодарская область     8.08966   \n",
       "4   182033   183006      2          Мангистауская область    76.48000   \n",
       "\n",
       "  altitude  timezone          zipcode  \\\n",
       "0    504 м  UTC+6:00   100100, 100101   \n",
       "1    364 м  UTC+6:00           020100   \n",
       "2     None  UTC+5:00  090300 — 090302   \n",
       "3     None  UTC+6:00    140100—140104   \n",
       "4     −8 м  UTC+5:00           130000   \n",
       "\n",
       "                                         current_pop       lat       lon  \\\n",
       "0                          28 363[1] человека (2019)  49.63333     72.85   \n",
       "1                           13 678[1] человек (2019)        52  70.93333   \n",
       "2                           35 310[1] человек (2019)  51.16778    52.995   \n",
       "3                           41 625[1] человек (2019)  52.03333  76.91667   \n",
       "4  &&&&&&&&&0193494.&&&&&0193 494[1] человека (2020)     43.65     51.15   \n",
       "\n",
       "  area_units  \n",
       "0        км²  \n",
       "1        км²  \n",
       "2       None  \n",
       "3        км²  \n",
       "4        км²  "
      ]
     },
     "execution_count": 73,
     "metadata": {},
     "output_type": "execute_result"
    }
   ],
   "source": [
    "cities.head()"
   ]
  },
  {
   "cell_type": "markdown",
   "metadata": {},
   "source": [
    "Now altitude using the same logic"
   ]
  },
  {
   "cell_type": "code",
   "execution_count": 74,
   "metadata": {},
   "outputs": [
    {
     "data": {
      "text/plain": [
       "array(['504 м', '364 м', None, '−8\\xa0м', '225[2] м', '270\\xa0м',\n",
       "       '785\\xa0м', '347\\xa0± 1\\xa0м', '290 м', '−20\\xa0м', '654 м',\n",
       "       '100 м', '440\\xa0± 1\\xa0м', '262 м', '1214\\xa0± 1\\xa0м',\n",
       "       '171\\xa0м', '300 м', '660\\xa0± 1\\xa0м', '480—600 м', '553 м',\n",
       "       '815 м', '234 м', '157 м', '128\\xa0± 1\\xa0м', '123\\xa0± 1\\xa0м',\n",
       "       '137\\xa0± 1\\xa0м', '744 м', '206\\xa0м', '973 м', '600\\xa0± 1\\xa0м',\n",
       "       '610\\xa0± 1\\xa0м', '1 300 м', '190 м', '35\\xa0± 1\\xa0м',\n",
       "       '283\\xa0± 1\\xa0м', '25\\xa0м', '506 м', '395 м'], dtype=object)"
      ]
     },
     "execution_count": 74,
     "metadata": {},
     "output_type": "execute_result"
    }
   ],
   "source": [
    "cities['altitude'].unique()"
   ]
  },
  {
   "cell_type": "code",
   "execution_count": 75,
   "metadata": {},
   "outputs": [],
   "source": [
    "cities['altitude'] = cities['altitude'].str.replace(u'\\xa0' , u' ') #replcaing this space to normal one"
   ]
  },
  {
   "cell_type": "code",
   "execution_count": 76,
   "metadata": {},
   "outputs": [],
   "source": [
    "cities['altitude'] = cities['altitude'].str.replace(' ± 1' , '') #replcaing +/-"
   ]
  },
  {
   "cell_type": "code",
   "execution_count": 77,
   "metadata": {},
   "outputs": [],
   "source": [
    "cities['altitude'] = cities['altitude'].str.replace(' ' , '') #replcaing spaces"
   ]
  },
  {
   "cell_type": "code",
   "execution_count": 78,
   "metadata": {},
   "outputs": [],
   "source": [
    "cities['altitude'] = cities['altitude'].apply(find_number)"
   ]
  },
  {
   "cell_type": "code",
   "execution_count": 79,
   "metadata": {},
   "outputs": [
    {
     "data": {
      "text/plain": [
       "array(['504', '364', '', '−8', '225', '270', '785', '347', '290', '−20',\n",
       "       '654', '100', '440', '262', '1214', '171', '300', '660', '480—600',\n",
       "       '553', '815', '234', '157', '128', '123', '137', '744', '206',\n",
       "       '973', '600', '610', '1300', '190', '35', '283', '25', '506',\n",
       "       '395'], dtype=object)"
      ]
     },
     "execution_count": 79,
     "metadata": {},
     "output_type": "execute_result"
    }
   ],
   "source": [
    "cities['altitude'].unique()"
   ]
  },
  {
   "cell_type": "markdown",
   "metadata": {},
   "source": [
    "480-600 I will fill with mean 540"
   ]
  },
  {
   "cell_type": "code",
   "execution_count": 80,
   "metadata": {},
   "outputs": [],
   "source": [
    "cities['altitude'] = cities['altitude'].str.replace('480—600' , '540')"
   ]
  },
  {
   "cell_type": "code",
   "execution_count": 81,
   "metadata": {},
   "outputs": [
    {
     "data": {
      "text/plain": [
       "array(['504', '364', '', '−8', '225', '270', '785', '347', '290', '−20',\n",
       "       '654', '100', '440', '262', '1214', '171', '300', '660', '540',\n",
       "       '553', '815', '234', '157', '128', '123', '137', '744', '206',\n",
       "       '973', '600', '610', '1300', '190', '35', '283', '25', '506',\n",
       "       '395'], dtype=object)"
      ]
     },
     "execution_count": 81,
     "metadata": {},
     "output_type": "execute_result"
    }
   ],
   "source": [
    "cities['altitude'].unique()"
   ]
  },
  {
   "cell_type": "code",
   "execution_count": 82,
   "metadata": {},
   "outputs": [],
   "source": [
    "cities['altitude'] = cities['altitude'].replace('', np.nan)"
   ]
  },
  {
   "cell_type": "code",
   "execution_count": 83,
   "metadata": {},
   "outputs": [
    {
     "data": {
      "text/plain": [
       "array(['504', '364', nan, '−8', '225', '270', '785', '347', '290', '−20',\n",
       "       '654', '100', '440', '262', '1214', '171', '300', '660', '540',\n",
       "       '553', '815', '234', '157', '128', '123', '137', '744', '206',\n",
       "       '973', '600', '610', '1300', '190', '35', '283', '25', '506',\n",
       "       '395'], dtype=object)"
      ]
     },
     "execution_count": 83,
     "metadata": {},
     "output_type": "execute_result"
    }
   ],
   "source": [
    "cities['altitude'].unique()"
   ]
  },
  {
   "cell_type": "markdown",
   "metadata": {},
   "source": [
    "Since I have just two negative values I will change them manually. I couldn't get why astype method is not working with them. Probably it is because of dash. But even when I change it to short one it is not working"
   ]
  },
  {
   "cell_type": "code",
   "execution_count": 84,
   "metadata": {},
   "outputs": [],
   "source": [
    "cities['altitude'] = cities['altitude'].replace('−8', -8)"
   ]
  },
  {
   "cell_type": "code",
   "execution_count": 85,
   "metadata": {},
   "outputs": [],
   "source": [
    "cities['altitude'] = cities['altitude'].replace('−20', -20)"
   ]
  },
  {
   "cell_type": "code",
   "execution_count": 86,
   "metadata": {},
   "outputs": [],
   "source": [
    "cities['altitude'] = cities['altitude'].astype('float64')"
   ]
  },
  {
   "cell_type": "markdown",
   "metadata": {},
   "source": [
    "Preprocessing of the current_pop"
   ]
  },
  {
   "cell_type": "code",
   "execution_count": 87,
   "metadata": {},
   "outputs": [],
   "source": [
    "cities['current_pop'] = cities['current_pop'].str.replace(u'\\xa0' , u' ') #replcaing this space to normal one"
   ]
  },
  {
   "cell_type": "code",
   "execution_count": 88,
   "metadata": {},
   "outputs": [],
   "source": [
    "cities['current_pop'] = cities['current_pop'].str.replace(' ' , '') #replcaing spaces"
   ]
  },
  {
   "cell_type": "code",
   "execution_count": 89,
   "metadata": {},
   "outputs": [],
   "source": [
    "cities['current_pop'] = cities['current_pop'].str.replace('&' , '') #replcaing &"
   ]
  },
  {
   "cell_type": "code",
   "execution_count": 90,
   "metadata": {},
   "outputs": [],
   "source": [
    "cities['current_pop'] = cities['current_pop'].str.replace('↗' , '') #replcaing ↗"
   ]
  },
  {
   "cell_type": "code",
   "execution_count": 91,
   "metadata": {},
   "outputs": [],
   "source": [
    "cities['current_pop'] = cities['current_pop'].str.replace('▲' , '') #replcaing ▲"
   ]
  },
  {
   "cell_type": "code",
   "execution_count": 92,
   "metadata": {},
   "outputs": [],
   "source": [
    "cities['current_pop'] = cities['current_pop'].str.replace('▼' , '') #replcaing ▼"
   ]
  },
  {
   "cell_type": "code",
   "execution_count": 93,
   "metadata": {},
   "outputs": [],
   "source": [
    "cities['current_pop'] = cities['current_pop'].str.replace('↘' , '') #replcaing ↘"
   ]
  },
  {
   "cell_type": "code",
   "execution_count": 94,
   "metadata": {},
   "outputs": [],
   "source": [
    "cities['current_pop'] = cities['current_pop'].apply(find_number)"
   ]
  },
  {
   "cell_type": "code",
   "execution_count": 95,
   "metadata": {},
   "outputs": [],
   "source": [
    "cities['current_pop'] = cities['current_pop'].str.replace('0193494.0193494' , '193494') #replcaing wrong pop"
   ]
  },
  {
   "cell_type": "code",
   "execution_count": 96,
   "metadata": {},
   "outputs": [
    {
     "data": {
      "text/plain": [
       "array(['28363', '13678', '35310', '41625', '193494', '512452', '20562',\n",
       "       '1916822', '33141', '41371', '74252', '1184469', '28735', '290700',\n",
       "       '38496', '76019', '72892', '7742', '6307', '9128', '33032',\n",
       "       '10546', '156000', '22364', '42809', '87200', '1772', '24484',\n",
       "       '34736', '16261', '36116', '5777', '36028', '61767', '497777',\n",
       "       '8091', '30204', '8190', '64529', '68669', '146104', '250907',\n",
       "       '60472', '12408', '242462', '24045', '36011', '17775', '6866',\n",
       "       '360502', '219231', '13329', '48008', '115297', '43277', '11368',\n",
       "       '34303', '61529', '324043', '7687', '8429', '67857', '3508',\n",
       "       '11422', '42810', '145403', '357795', '31958', '2167', '179200',\n",
       "       '24590', '164746', '234155', '346127', '17181', '22989', '6376',\n",
       "       '26737', '28443', '27957', '6780', '37653', '18211', '36648',\n",
       "       '1074167', '46810', '133889', '11808'], dtype=object)"
      ]
     },
     "execution_count": 96,
     "metadata": {},
     "output_type": "execute_result"
    }
   ],
   "source": [
    "cities['current_pop'].unique()"
   ]
  },
  {
   "cell_type": "code",
   "execution_count": 97,
   "metadata": {},
   "outputs": [
    {
     "name": "stdout",
     "output_type": "stream",
     "text": [
      "<class 'pandas.core.frame.DataFrame'>\n",
      "Int64Index: 88 entries, 0 to 87\n",
      "Data columns (total 20 columns):\n",
      " #   Column       Non-Null Count  Dtype  \n",
      "---  ------       --------------  -----  \n",
      " 0   title        88 non-null     object \n",
      " 1   rus_title    88 non-null     object \n",
      " 2   kz_title     88 non-null     object \n",
      " 3   city_from    88 non-null     object \n",
      " 4   pop_1979     44 non-null     object \n",
      " 5   pop_1989     62 non-null     object \n",
      " 6   pop_1999     88 non-null     object \n",
      " 7   pop_2009     88 non-null     object \n",
      " 8   pop_2014     88 non-null     object \n",
      " 9   pop_2019     88 non-null     object \n",
      " 10  status       88 non-null     object \n",
      " 11  region       88 non-null     object \n",
      " 12  area         51 non-null     float64\n",
      " 13  altitude     38 non-null     float64\n",
      " 14  timezone     86 non-null     object \n",
      " 15  zipcode      87 non-null     object \n",
      " 16  current_pop  88 non-null     object \n",
      " 17  lat          88 non-null     object \n",
      " 18  lon          88 non-null     object \n",
      " 19  area_units   51 non-null     object \n",
      "dtypes: float64(2), object(18)\n",
      "memory usage: 14.4+ KB\n"
     ]
    }
   ],
   "source": [
    "cities.info()"
   ]
  },
  {
   "cell_type": "markdown",
   "metadata": {},
   "source": [
    "Timezone and zip-code I will not touch. Now time for format types"
   ]
  },
  {
   "cell_type": "code",
   "execution_count": 98,
   "metadata": {},
   "outputs": [],
   "source": [
    "cities = cities.drop(columns = 'area_units')"
   ]
  },
  {
   "cell_type": "code",
   "execution_count": 99,
   "metadata": {},
   "outputs": [
    {
     "data": {
      "text/html": [
       "<div>\n",
       "<style scoped>\n",
       "    .dataframe tbody tr th:only-of-type {\n",
       "        vertical-align: middle;\n",
       "    }\n",
       "\n",
       "    .dataframe tbody tr th {\n",
       "        vertical-align: top;\n",
       "    }\n",
       "\n",
       "    .dataframe thead th {\n",
       "        text-align: right;\n",
       "    }\n",
       "</style>\n",
       "<table border=\"1\" class=\"dataframe\">\n",
       "  <thead>\n",
       "    <tr style=\"text-align: right;\">\n",
       "      <th></th>\n",
       "      <th>title</th>\n",
       "      <th>rus_title</th>\n",
       "      <th>kz_title</th>\n",
       "      <th>city_from</th>\n",
       "      <th>pop_1979</th>\n",
       "      <th>pop_1989</th>\n",
       "      <th>pop_1999</th>\n",
       "      <th>pop_2009</th>\n",
       "      <th>pop_2014</th>\n",
       "      <th>pop_2019</th>\n",
       "      <th>status</th>\n",
       "      <th>region</th>\n",
       "      <th>area</th>\n",
       "      <th>altitude</th>\n",
       "      <th>timezone</th>\n",
       "      <th>zipcode</th>\n",
       "      <th>current_pop</th>\n",
       "      <th>lat</th>\n",
       "      <th>lon</th>\n",
       "    </tr>\n",
       "  </thead>\n",
       "  <tbody>\n",
       "    <tr>\n",
       "      <th>0</th>\n",
       "      <td>Абай</td>\n",
       "      <td>Абай</td>\n",
       "      <td>Абай</td>\n",
       "      <td>1961</td>\n",
       "      <td>39387</td>\n",
       "      <td>46533</td>\n",
       "      <td>33066</td>\n",
       "      <td>25550</td>\n",
       "      <td>27954</td>\n",
       "      <td>28365</td>\n",
       "      <td>4</td>\n",
       "      <td>Карагандинская область</td>\n",
       "      <td>200.00000</td>\n",
       "      <td>504.0</td>\n",
       "      <td>UTC+6:00</td>\n",
       "      <td>100100, 100101</td>\n",
       "      <td>28363</td>\n",
       "      <td>49.63333</td>\n",
       "      <td>72.85</td>\n",
       "    </tr>\n",
       "    <tr>\n",
       "      <th>1</th>\n",
       "      <td>Акколь</td>\n",
       "      <td>Акколь</td>\n",
       "      <td>Ақкөл</td>\n",
       "      <td>1965</td>\n",
       "      <td>17867</td>\n",
       "      <td>19664</td>\n",
       "      <td>15682</td>\n",
       "      <td>14217</td>\n",
       "      <td>13708</td>\n",
       "      <td>13676</td>\n",
       "      <td>4</td>\n",
       "      <td>Акмолинская область</td>\n",
       "      <td>9400.00000</td>\n",
       "      <td>364.0</td>\n",
       "      <td>UTC+6:00</td>\n",
       "      <td>020100</td>\n",
       "      <td>13678</td>\n",
       "      <td>52</td>\n",
       "      <td>70.93333</td>\n",
       "    </tr>\n",
       "    <tr>\n",
       "      <th>2</th>\n",
       "      <td>Аксай</td>\n",
       "      <td>Аксай</td>\n",
       "      <td>Ақсай</td>\n",
       "      <td>1967</td>\n",
       "      <td>10400</td>\n",
       "      <td>18237</td>\n",
       "      <td>28953</td>\n",
       "      <td>32873</td>\n",
       "      <td>33589</td>\n",
       "      <td>35310</td>\n",
       "      <td>4</td>\n",
       "      <td>Западно-Казахстанская область</td>\n",
       "      <td>NaN</td>\n",
       "      <td>NaN</td>\n",
       "      <td>UTC+5:00</td>\n",
       "      <td>090300 — 090302</td>\n",
       "      <td>35310</td>\n",
       "      <td>51.16778</td>\n",
       "      <td>52.995</td>\n",
       "    </tr>\n",
       "    <tr>\n",
       "      <th>3</th>\n",
       "      <td>Аксу</td>\n",
       "      <td>Аксу</td>\n",
       "      <td>Ақсу</td>\n",
       "      <td>1961</td>\n",
       "      <td>41572</td>\n",
       "      <td>47067</td>\n",
       "      <td>42264</td>\n",
       "      <td>41677</td>\n",
       "      <td>42519</td>\n",
       "      <td>41639</td>\n",
       "      <td>3</td>\n",
       "      <td>Павлодарская область</td>\n",
       "      <td>8.08966</td>\n",
       "      <td>NaN</td>\n",
       "      <td>UTC+6:00</td>\n",
       "      <td>140100—140104</td>\n",
       "      <td>41625</td>\n",
       "      <td>52.03333</td>\n",
       "      <td>76.91667</td>\n",
       "    </tr>\n",
       "    <tr>\n",
       "      <th>4</th>\n",
       "      <td>Актау</td>\n",
       "      <td>Актау</td>\n",
       "      <td>Ақтау</td>\n",
       "      <td>1963</td>\n",
       "      <td>110575</td>\n",
       "      <td>159245</td>\n",
       "      <td>143396</td>\n",
       "      <td>166962</td>\n",
       "      <td>182033</td>\n",
       "      <td>183006</td>\n",
       "      <td>2</td>\n",
       "      <td>Мангистауская область</td>\n",
       "      <td>76.48000</td>\n",
       "      <td>-8.0</td>\n",
       "      <td>UTC+5:00</td>\n",
       "      <td>130000</td>\n",
       "      <td>193494</td>\n",
       "      <td>43.65</td>\n",
       "      <td>51.15</td>\n",
       "    </tr>\n",
       "  </tbody>\n",
       "</table>\n",
       "</div>"
      ],
      "text/plain": [
       "    title rus_title kz_title city_from pop_1979 pop_1989 pop_1999 pop_2009  \\\n",
       "0    Абай      Абай     Абай      1961    39387    46533    33066    25550   \n",
       "1  Акколь    Акколь    Ақкөл      1965    17867    19664    15682    14217   \n",
       "2   Аксай     Аксай    Ақсай      1967    10400    18237    28953    32873   \n",
       "3    Аксу      Аксу     Ақсу      1961    41572    47067    42264    41677   \n",
       "4   Актау     Актау    Ақтау      1963   110575   159245   143396   166962   \n",
       "\n",
       "  pop_2014 pop_2019 status                         region        area  \\\n",
       "0    27954    28365      4         Карагандинская область   200.00000   \n",
       "1    13708    13676      4            Акмолинская область  9400.00000   \n",
       "2    33589    35310      4  Западно-Казахстанская область         NaN   \n",
       "3    42519    41639      3           Павлодарская область     8.08966   \n",
       "4   182033   183006      2          Мангистауская область    76.48000   \n",
       "\n",
       "   altitude  timezone          zipcode current_pop       lat       lon  \n",
       "0     504.0  UTC+6:00   100100, 100101       28363  49.63333     72.85  \n",
       "1     364.0  UTC+6:00           020100       13678        52  70.93333  \n",
       "2       NaN  UTC+5:00  090300 — 090302       35310  51.16778    52.995  \n",
       "3       NaN  UTC+6:00    140100—140104       41625  52.03333  76.91667  \n",
       "4      -8.0  UTC+5:00           130000      193494     43.65     51.15  "
      ]
     },
     "execution_count": 99,
     "metadata": {},
     "output_type": "execute_result"
    }
   ],
   "source": [
    "cities.head()"
   ]
  },
  {
   "cell_type": "code",
   "execution_count": 100,
   "metadata": {},
   "outputs": [],
   "source": [
    "cities = cities.astype(\n",
    "    {\n",
    "        'pop_1979' : 'float64',\n",
    "        'pop_1989' : 'float64',\n",
    "        'pop_1999' : 'float64',\n",
    "        'pop_2009' : 'float64',\n",
    "        'pop_2014' : 'float64',\n",
    "        'pop_2019' : 'float64',\n",
    "        'current_pop' : 'float64',\n",
    "        'lat' : 'float64',\n",
    "        'lon' : 'float64'\n",
    "    },\n",
    "    errors='ignore'\n",
    ")"
   ]
  },
  {
   "cell_type": "code",
   "execution_count": 101,
   "metadata": {},
   "outputs": [
    {
     "name": "stdout",
     "output_type": "stream",
     "text": [
      "<class 'pandas.core.frame.DataFrame'>\n",
      "Int64Index: 88 entries, 0 to 87\n",
      "Data columns (total 19 columns):\n",
      " #   Column       Non-Null Count  Dtype  \n",
      "---  ------       --------------  -----  \n",
      " 0   title        88 non-null     object \n",
      " 1   rus_title    88 non-null     object \n",
      " 2   kz_title     88 non-null     object \n",
      " 3   city_from    88 non-null     object \n",
      " 4   pop_1979     44 non-null     float64\n",
      " 5   pop_1989     62 non-null     float64\n",
      " 6   pop_1999     88 non-null     float64\n",
      " 7   pop_2009     88 non-null     float64\n",
      " 8   pop_2014     88 non-null     object \n",
      " 9   pop_2019     88 non-null     float64\n",
      " 10  status       88 non-null     object \n",
      " 11  region       88 non-null     object \n",
      " 12  area         51 non-null     float64\n",
      " 13  altitude     38 non-null     float64\n",
      " 14  timezone     86 non-null     object \n",
      " 15  zipcode      87 non-null     object \n",
      " 16  current_pop  88 non-null     float64\n",
      " 17  lat          88 non-null     float64\n",
      " 18  lon          88 non-null     float64\n",
      "dtypes: float64(10), object(9)\n",
      "memory usage: 13.8+ KB\n"
     ]
    }
   ],
   "source": [
    "cities.info()"
   ]
  },
  {
   "cell_type": "code",
   "execution_count": 102,
   "metadata": {},
   "outputs": [
    {
     "data": {
      "text/plain": [
       "array(['27954', '13708', '33589', '42519', '182033', '385438', '19997',\n",
       "       '1534353', '31768', '28968', '42286', '844930', '29673', '202026',\n",
       "       '37392', '73464[7]', '71339', '7606', '6307', '10349', '38440',\n",
       "       '10895', '110272', '21658', '42809', '84977', '2033', '29688',\n",
       "       '35132', '15712', '37806', '7214', '32102', '43618', '489355',\n",
       "       '9569', '27667', '8633', '64416', '64682', '141396', '225464',\n",
       "       '55742', '11810', '218300', '24302', '36848', '17205', '7238',\n",
       "       '332062', '208979', '13367', '49574', '114725', '43164', '13914',\n",
       "       '39758', '61816', '312986', '7374', '9071', '47045', '3844',\n",
       "       '11437', '48107', '137654', '355682', '30079', '2520', '176865',\n",
       "       '24336', '157399', '230354', '316093', '17523', '24743', '5362',\n",
       "       '25198', '30850', '27703', '7710', '38468', '18211', '35929',\n",
       "       '704983', '45963', '132075', '11735'], dtype=object)"
      ]
     },
     "execution_count": 102,
     "metadata": {},
     "output_type": "execute_result"
    }
   ],
   "source": [
    "cities['pop_2014'].unique()"
   ]
  },
  {
   "cell_type": "code",
   "execution_count": 103,
   "metadata": {},
   "outputs": [],
   "source": [
    "cities['pop_2014'] = cities['pop_2014'].apply(find_number)"
   ]
  },
  {
   "cell_type": "code",
   "execution_count": 104,
   "metadata": {},
   "outputs": [],
   "source": [
    "cities['pop_2014'] = cities['pop_2014'].astype('float64')"
   ]
  },
  {
   "cell_type": "code",
   "execution_count": 105,
   "metadata": {},
   "outputs": [
    {
     "name": "stdout",
     "output_type": "stream",
     "text": [
      "<class 'pandas.core.frame.DataFrame'>\n",
      "Int64Index: 88 entries, 0 to 87\n",
      "Data columns (total 19 columns):\n",
      " #   Column       Non-Null Count  Dtype  \n",
      "---  ------       --------------  -----  \n",
      " 0   title        88 non-null     object \n",
      " 1   rus_title    88 non-null     object \n",
      " 2   kz_title     88 non-null     object \n",
      " 3   city_from    88 non-null     object \n",
      " 4   pop_1979     44 non-null     float64\n",
      " 5   pop_1989     62 non-null     float64\n",
      " 6   pop_1999     88 non-null     float64\n",
      " 7   pop_2009     88 non-null     float64\n",
      " 8   pop_2014     88 non-null     float64\n",
      " 9   pop_2019     88 non-null     float64\n",
      " 10  status       88 non-null     object \n",
      " 11  region       88 non-null     object \n",
      " 12  area         51 non-null     float64\n",
      " 13  altitude     38 non-null     float64\n",
      " 14  timezone     86 non-null     object \n",
      " 15  zipcode      87 non-null     object \n",
      " 16  current_pop  88 non-null     float64\n",
      " 17  lat          88 non-null     float64\n",
      " 18  lon          88 non-null     float64\n",
      "dtypes: float64(11), object(8)\n",
      "memory usage: 13.8+ KB\n"
     ]
    }
   ],
   "source": [
    "cities.info()"
   ]
  },
  {
   "cell_type": "markdown",
   "metadata": {},
   "source": [
    "### Result"
   ]
  },
  {
   "cell_type": "markdown",
   "metadata": {},
   "source": [
    "Of course the script is not optimal. The code could be improved. For example for replacing maping could be used. In a future probably I will rewrite the script. I feel like I have no enough information for fast parsing. So I have space to grow. Now I want to show how this table could be used."
   ]
  },
  {
   "cell_type": "code",
   "execution_count": 106,
   "metadata": {},
   "outputs": [
    {
     "data": {
      "image/png": "[encoded data removed]",
      "text/plain": [
       "<Figure size 1872x936 with 1 Axes>"
      ]
     },
     "metadata": {},
     "output_type": "display_data"
    }
   ],
   "source": [
    "fig = plt.figure(figsize=(26, 13), facecolor='white')\n",
    "gs=fig.add_gridspec(1,1)\n",
    "ax=[None]\n",
    "\n",
    "ax[0]=fig.add_subplot(gs[0,0])\n",
    "\n",
    "ax[0].grid(color='black', linestyle=':', axis='y', zorder=0,  dashes=(1,5))\n",
    "\n",
    "sns.scatterplot(\n",
    "    data=cities,\n",
    "    x='lon',\n",
    "    y='lat',\n",
    "    size='current_pop',\n",
    "    sizes=(1, 7000),\n",
    "    legend=False,\n",
    "    hue='current_pop',\n",
    "    palette='crest',\n",
    "    alpha=0.7\n",
    ")\n",
    "\n",
    "for direction in ['top','right','left']:\n",
    "    ax[0].spines[direction].set_visible(False)\n",
    "\n",
    "ax[0].set_xlabel('Долгота',fontsize=12, fontweight='bold')\n",
    "\n",
    "\n",
    "ax[0].tick_params(axis='y',length=0)\n",
    "ax[0].set_ylabel('Широта')\n",
    "ax[0].set_title('Население городов Казахстана', fontsize=20, fontweight='bold', fontfamily='monospace')\n",
    "\n",
    "for i in range(len(cities)):\n",
    "    if cities.iloc[i, 16] >= 100000:\n",
    "        plt.annotate(\n",
    "            cities.iloc[i, 0],\n",
    "            xy=(cities.iloc[i, 18], cities.iloc[i, 17]),\n",
    "            xytext=(cities.iloc[i, 18], cities.iloc[i, 17]),\n",
    "            fontsize=15,\n",
    "            fontfamily='monospace',\n",
    "            fontweight='light',\n",
    "            ha='center',\n",
    "            color='black'\n",
    "        )\n",
    "\n",
    "plt.show()"
   ]
  },
  {
   "cell_type": "code",
   "execution_count": 110,
   "metadata": {},
   "outputs": [],
   "source": [
    "cities.to_csv('kz_cities.csv', header=True, index=False, encoding='utf-8-sig')"
   ]
  }
 ],
 "metadata": {
  "kernelspec": {
   "display_name": "Python 3",
   "language": "python",
   "name": "python3"
  },
  "language_info": {
   "codemirror_mode": {
    "name": "ipython",
    "version": 3
   },
   "file_extension": ".py",
   "mimetype": "text/x-python",
   "name": "python",
   "nbconvert_exporter": "python",
   "pygments_lexer": "ipython3",
   "version": "3.8.5"
  }
 },
 "nbformat": 4,
 "nbformat_minor": 4
}
